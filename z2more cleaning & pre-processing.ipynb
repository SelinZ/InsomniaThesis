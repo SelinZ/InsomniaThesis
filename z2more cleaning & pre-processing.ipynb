{
 "cells": [
  {
   "cell_type": "code",
   "execution_count": null,
   "id": "7b6fb41f",
   "metadata": {},
   "outputs": [],
   "source": [
    "#https://practicaldatascience.co.uk/machine-learning/how-to-preprocess-text-for-nlp-in-four-easy-steps\n",
    "#https://medium.com/mlearning-ai/nlp-a-comprehensive-guide-to-text-cleaning-and-preprocessing-63f364febfc5"
   ]
  },
  {
   "cell_type": "code",
   "execution_count": 1,
   "id": "10858c52",
   "metadata": {},
   "outputs": [
    {
     "name": "stdout",
     "output_type": "stream",
     "text": [
      "Index(['score', 'created_utc', 'title', 'selftext', 'covid'], dtype='object')\n"
     ]
    },
    {
     "data": {
      "text/html": [
       "<div>\n",
       "<style scoped>\n",
       "    .dataframe tbody tr th:only-of-type {\n",
       "        vertical-align: middle;\n",
       "    }\n",
       "\n",
       "    .dataframe tbody tr th {\n",
       "        vertical-align: top;\n",
       "    }\n",
       "\n",
       "    .dataframe thead th {\n",
       "        text-align: right;\n",
       "    }\n",
       "</style>\n",
       "<table border=\"1\" class=\"dataframe\">\n",
       "  <thead>\n",
       "    <tr style=\"text-align: right;\">\n",
       "      <th></th>\n",
       "      <th>score</th>\n",
       "      <th>created_utc</th>\n",
       "      <th>title</th>\n",
       "      <th>selftext</th>\n",
       "      <th>covid</th>\n",
       "    </tr>\n",
       "  </thead>\n",
       "  <tbody>\n",
       "    <tr>\n",
       "      <th>0</th>\n",
       "      <td>5</td>\n",
       "      <td>2017-03-01</td>\n",
       "      <td>An app that might help my fellow insomniacs!</td>\n",
       "      <td>I've used this app called 'Relax Melodies' for...</td>\n",
       "      <td>0</td>\n",
       "    </tr>\n",
       "    <tr>\n",
       "      <th>1</th>\n",
       "      <td>2</td>\n",
       "      <td>2017-03-01</td>\n",
       "      <td>Awake</td>\n",
       "      <td>I felt reasonably tired at my bed time. I got ...</td>\n",
       "      <td>0</td>\n",
       "    </tr>\n",
       "    <tr>\n",
       "      <th>2</th>\n",
       "      <td>10</td>\n",
       "      <td>2017-03-01</td>\n",
       "      <td>Listening to others sleep</td>\n",
       "      <td>And to hear how they slept poorly the next day...</td>\n",
       "      <td>0</td>\n",
       "    </tr>\n",
       "    <tr>\n",
       "      <th>3</th>\n",
       "      <td>5</td>\n",
       "      <td>2017-03-01</td>\n",
       "      <td>Birds chriping in the early am</td>\n",
       "      <td>Whenever it is warm outside, there is a bird t...</td>\n",
       "      <td>0</td>\n",
       "    </tr>\n",
       "    <tr>\n",
       "      <th>4</th>\n",
       "      <td>3</td>\n",
       "      <td>2017-03-01</td>\n",
       "      <td>Lost sleep capacity from Mirtazapine?</td>\n",
       "      <td>I was on 20-25mg Mirtazapine (Remeron) over th...</td>\n",
       "      <td>0</td>\n",
       "    </tr>\n",
       "    <tr>\n",
       "      <th>...</th>\n",
       "      <td>...</td>\n",
       "      <td>...</td>\n",
       "      <td>...</td>\n",
       "      <td>...</td>\n",
       "      <td>...</td>\n",
       "    </tr>\n",
       "    <tr>\n",
       "      <th>18530</th>\n",
       "      <td>4</td>\n",
       "      <td>2021-02-27</td>\n",
       "      <td>What is day 5 like?</td>\n",
       "      <td>I’ve been at day 4, not many times, it’s where...</td>\n",
       "      <td>1</td>\n",
       "    </tr>\n",
       "    <tr>\n",
       "      <th>18531</th>\n",
       "      <td>1</td>\n",
       "      <td>2021-02-27</td>\n",
       "      <td>new trouble falling asleep</td>\n",
       "      <td>Hi, everyone I’m a new poster in this sub but ...</td>\n",
       "      <td>1</td>\n",
       "    </tr>\n",
       "    <tr>\n",
       "      <th>18532</th>\n",
       "      <td>3</td>\n",
       "      <td>2021-02-27</td>\n",
       "      <td>Does this classify as insomnia?</td>\n",
       "      <td>I have a very hard time falling asleep, I can ...</td>\n",
       "      <td>1</td>\n",
       "    </tr>\n",
       "    <tr>\n",
       "      <th>18533</th>\n",
       "      <td>17</td>\n",
       "      <td>2021-02-28</td>\n",
       "      <td>Too scared to sleep</td>\n",
       "      <td>anyone else rly want to sleep and feel tired b...</td>\n",
       "      <td>1</td>\n",
       "    </tr>\n",
       "    <tr>\n",
       "      <th>18534</th>\n",
       "      <td>1</td>\n",
       "      <td>2021-02-28</td>\n",
       "      <td>feels invincible (31 hours)</td>\n",
       "      <td>I'm at it again fellas. Around this time last ...</td>\n",
       "      <td>1</td>\n",
       "    </tr>\n",
       "  </tbody>\n",
       "</table>\n",
       "<p>18535 rows × 5 columns</p>\n",
       "</div>"
      ],
      "text/plain": [
       "       score created_utc                                         title  \\\n",
       "0          5  2017-03-01  An app that might help my fellow insomniacs!   \n",
       "1          2  2017-03-01                                         Awake   \n",
       "2         10  2017-03-01                     Listening to others sleep   \n",
       "3          5  2017-03-01                Birds chriping in the early am   \n",
       "4          3  2017-03-01         Lost sleep capacity from Mirtazapine?   \n",
       "...      ...         ...                                           ...   \n",
       "18530      4  2021-02-27                           What is day 5 like?   \n",
       "18531      1  2021-02-27                    new trouble falling asleep   \n",
       "18532      3  2021-02-27               Does this classify as insomnia?   \n",
       "18533     17  2021-02-28                           Too scared to sleep   \n",
       "18534      1  2021-02-28                   feels invincible (31 hours)   \n",
       "\n",
       "                                                selftext  covid  \n",
       "0      I've used this app called 'Relax Melodies' for...      0  \n",
       "1      I felt reasonably tired at my bed time. I got ...      0  \n",
       "2      And to hear how they slept poorly the next day...      0  \n",
       "3      Whenever it is warm outside, there is a bird t...      0  \n",
       "4      I was on 20-25mg Mirtazapine (Remeron) over th...      0  \n",
       "...                                                  ...    ...  \n",
       "18530  I’ve been at day 4, not many times, it’s where...      1  \n",
       "18531  Hi, everyone I’m a new poster in this sub but ...      1  \n",
       "18532  I have a very hard time falling asleep, I can ...      1  \n",
       "18533  anyone else rly want to sleep and feel tired b...      1  \n",
       "18534  I'm at it again fellas. Around this time last ...      1  \n",
       "\n",
       "[18535 rows x 5 columns]"
      ]
     },
     "execution_count": 1,
     "metadata": {},
     "output_type": "execute_result"
    }
   ],
   "source": [
    "#####  LOAD THE DATA HERE ####\n",
    "\n",
    "import pandas as pd \n",
    "\n",
    "combi = pd.read_csv('combined.csv')\n",
    "print(combi.columns)\n",
    "(combi)  #18535 rows × 5 columns"
   ]
  },
  {
   "cell_type": "code",
   "execution_count": 2,
   "id": "6571a773",
   "metadata": {},
   "outputs": [
    {
     "data": {
      "text/plain": [
       "score          0\n",
       "created_utc    0\n",
       "title          0\n",
       "selftext       0\n",
       "covid          0\n",
       "dtype: int64"
      ]
     },
     "execution_count": 2,
     "metadata": {},
     "output_type": "execute_result"
    }
   ],
   "source": [
    "combi.isna().sum()"
   ]
  },
  {
   "cell_type": "code",
   "execution_count": 3,
   "id": "13b5832c",
   "metadata": {},
   "outputs": [],
   "source": [
    "combi['created_utc'] = combi['created_utc'].astype('datetime64[ns]')\n",
    "#combi['created_utc'].dt.strftime('%d/%m/%y')\n",
    "combi['title'] = combi['title'].astype(\"string\")\n",
    "combi['selftext'] = combi['selftext'].astype(\"string\")"
   ]
  },
  {
   "cell_type": "code",
   "execution_count": 4,
   "id": "70507c14",
   "metadata": {},
   "outputs": [
    {
     "data": {
      "text/plain": [
       "score                   int64\n",
       "created_utc    datetime64[ns]\n",
       "title                  string\n",
       "selftext               string\n",
       "covid                   int64\n",
       "dtype: object"
      ]
     },
     "execution_count": 4,
     "metadata": {},
     "output_type": "execute_result"
    }
   ],
   "source": [
    "combi.dtypes"
   ]
  },
  {
   "cell_type": "code",
   "execution_count": 5,
   "id": "d14d3bdd",
   "metadata": {},
   "outputs": [],
   "source": [
    "#Lowering all letters\n",
    "\n",
    "#text_col = combi.selftext.to_string() # is text column to pre-process\n",
    "combi[\"selftext\"] = combi[\"selftext\"].str.lower().str.strip()\n",
    "combi[\"title\"] = combi[\"title\"].str.lower()"
   ]
  },
  {
   "cell_type": "code",
   "execution_count": 6,
   "id": "b9110786",
   "metadata": {},
   "outputs": [
    {
     "name": "stdout",
     "output_type": "stream",
     "text": [
      "133    https://www.youtube.com/watch?v=oeh06kgyn88&am...\n",
      "285               www.bbc.co.uk/iplayer/episode/b08q8p13\n",
      "612    http://kellybroganmd.com/psychiatric-medicatio...\n",
      "843                             https://justgetflux.com/\n",
      "896    https://www.youtube.com/watch?v=eesmdtr1cuy&am...\n",
      "Name: selftext, dtype: string\n"
     ]
    }
   ],
   "source": [
    "#Rows that are only links\n",
    "\n",
    "print(combi.selftext[[133,  285,  612,  843,  896,  901,  902,  910,  911,  913,  916,\n",
    "         917,  926,  929,  930,  931,  945,  950,  957,  959,  967,  976,\n",
    "         982,  984,  986,  990,  992,  998,  999, 1008, 1011, 1016, 1020,\n",
    "        1021, 1027, 1030, 1031, 1033, 1034, 1036, 1042, 1049, 1072, 1084,\n",
    "        1090, 1094, 1096, 1097, 1119, 1125, 1131, 1133, 1134, 1152, 1156,\n",
    "        1165, 1168, 1170, 1173, 1176, 1177, 1179, 1186, 1188, 1190, 1202,\n",
    "        1209, 1220, 1227, 1228, 1243, 1250, 1252, 1253, 1257, 1267, 1268,\n",
    "        1270, 1271, 1272, 1273, 1368, 1449, 1473, 1570, 1591, 1921, 2016,\n",
    "        2035, 2340, 2344, 2515, 2620, 2680, 2791, 2953, 3027, 3122, 3238,\n",
    "        3247, 3562, 3613, 3688, 3829, 3852, 4062, 4475, 4476, 4502, 5008,\n",
    "        5385, 5387, 5716, 5983, 6065, 6068, 6113, 6472, 6738, 6780, 7052,\n",
    "        7716, 7922]].head())"
   ]
  },
  {
   "cell_type": "code",
   "execution_count": 7,
   "id": "a0de0d15",
   "metadata": {},
   "outputs": [
    {
     "data": {
      "text/plain": [
       "\"i'm curious to see what you guys think came first. i have constant racing thoughts in my head. i have random conversations i had and others i could see my self having swirling around in my head. i have random words that just pop up and song lyrics. there is a constant dialogue going on in my head that seems highly abnormal. i have noticed that it has gotten worse with sleep deprivation, but i'm not sure if the racing thoughts cause the the insomnia or the resulting sleep deprivation has caused the racing thoughts. what does everyone think? does anyone have this experience with the constant chatter in the brain?\""
      ]
     },
     "execution_count": 7,
     "metadata": {},
     "output_type": "execute_result"
    }
   ],
   "source": [
    "combi.selftext[[443, 1420, 1974, 3256, 3759, 4226, 4691, 6396, 6402, 6403, 6855, 7491, 11051]]\n",
    "combi.selftext[443]"
   ]
  },
  {
   "cell_type": "code",
   "execution_count": 8,
   "id": "ab8f1402",
   "metadata": {},
   "outputs": [
    {
     "data": {
      "text/plain": [
       "'https://www.independent.co.uk/life-style/national-napping-day-2019-fall-asleep-fast-military-trick-sleep-a8817826.html'"
      ]
     },
     "execution_count": 8,
     "metadata": {},
     "output_type": "execute_result"
    }
   ],
   "source": [
    "combi.selftext[6780]"
   ]
  },
  {
   "cell_type": "code",
   "execution_count": 9,
   "id": "0e54c970",
   "metadata": {},
   "outputs": [
    {
     "name": "stdout",
     "output_type": "stream",
     "text": [
      "https://www.youtube.com/watch?v=oeh06kgyn88&amp;t=29s\n",
      "\n",
      "dealing with insomnia while packing and moving to a new place is quite the rigorous test. hypno-sleep 'til brooklyn? http://touch.metro.us/news/the-insomniac-files-is-the-hypnotic-trance-my-last-chance/zsjqbb---5kivhlu99evgk/\n",
      "\n",
      "https://youtu.be/axicb-llx5u i really appreciate you watching!\n",
      "\n",
      "www.bbc.co.uk/iplayer/episode/b08q8p13\n"
     ]
    }
   ],
   "source": [
    "print(combi.selftext[133])\n",
    "print()\n",
    "print(combi.selftext[5])\n",
    "print()\n",
    "print(combi.selftext[38])\n",
    "print()\n",
    "print(combi.selftext[285])"
   ]
  },
  {
   "cell_type": "code",
   "execution_count": 10,
   "id": "b35e36ba",
   "metadata": {},
   "outputs": [
    {
     "name": "stderr",
     "output_type": "stream",
     "text": [
      "/var/folders/wd/1sxcpd491kg32hysvmfw5d3r0000gn/T/ipykernel_2599/1954268258.py:6: FutureWarning: The default value of regex will change from True to False in a future version.\n",
      "  combi['selftext'] = combi['selftext'].str.replace('http\\S+|www.\\S+', '', case=False)\n"
     ]
    }
   ],
   "source": [
    "#Remove https\n",
    "\n",
    "import re\n",
    "import numpy as np\n",
    "\n",
    "combi['selftext'] = combi['selftext'].str.replace('http\\S+|www.\\S+', '', case=False)\n",
    "#combi['selftext'] = combi['selftext'].replace('filler', np.NaN, regex=True)\n",
    "#combi['selftext'] = combi['selftext'].replace('nan', np.NaN, regex=True)\n",
    "#combi['selftext'] = combi['selftext'].replace(r'http\\S+', np.NaN, regex=True).replace(r'www\\S+', '', regex=True)\n"
   ]
  },
  {
   "cell_type": "code",
   "execution_count": 11,
   "id": "5289c481",
   "metadata": {},
   "outputs": [
    {
     "name": "stdout",
     "output_type": "stream",
     "text": [
      "\n",
      "\n",
      "dealing with insomnia while packing and moving to a new place is quite the rigorous test. hypno-sleep 'til brooklyn? \n",
      "\n",
      " i really appreciate you watching!\n",
      "\n",
      "\n"
     ]
    }
   ],
   "source": [
    "print(combi.selftext[133])\n",
    "print()\n",
    "print(combi.selftext[5])\n",
    "print()\n",
    "print(combi.selftext[38])\n",
    "print()\n",
    "print(combi.selftext[285])"
   ]
  },
  {
   "cell_type": "code",
   "execution_count": 12,
   "id": "b45c6e75",
   "metadata": {},
   "outputs": [
    {
     "data": {
      "text/plain": [
       "\"i'm curious to see what you guys think came first. i have constant racing thoughts in my head. i have random conversations i had and others i could see my self having swirling around in my head. i have random words that just pop up and song lyrics. there is a constant dialogue going on in my head that seems highly abnormal. i have noticed that it has gotten worse with sleep deprivation, but i'm not sure if the racing thoughts cause the the insomnia or the resulting sleep deprivation has caused the racing thoughts. what does everyone think? does anyone have this experience with the constant chatter in the brain?\""
      ]
     },
     "execution_count": 12,
     "metadata": {},
     "output_type": "execute_result"
    }
   ],
   "source": [
    "combi.selftext[443]"
   ]
  },
  {
   "cell_type": "code",
   "execution_count": 13,
   "id": "36e2bebf",
   "metadata": {},
   "outputs": [
    {
     "name": "stdout",
     "output_type": "stream",
     "text": [
      "       score created_utc                                         title  \\\n",
      "0          5  2017-03-01  an app that might help my fellow insomniacs!   \n",
      "1          2  2017-03-01                                         awake   \n",
      "2         10  2017-03-01                     listening to others sleep   \n",
      "3          5  2017-03-01                birds chriping in the early am   \n",
      "4          3  2017-03-01         lost sleep capacity from mirtazapine?   \n",
      "...      ...         ...                                           ...   \n",
      "18530      4  2021-02-27                           what is day 5 like?   \n",
      "18531      1  2021-02-27                    new trouble falling asleep   \n",
      "18532      3  2021-02-27               does this classify as insomnia?   \n",
      "18533     17  2021-02-28                           too scared to sleep   \n",
      "18534      1  2021-02-28                   feels invincible (31 hours)   \n",
      "\n",
      "                                                selftext  covid  \n",
      "0      i've used this app called 'relax melodies' for...      0  \n",
      "1      i felt reasonably tired at my bed time. i got ...      0  \n",
      "2      and to hear how they slept poorly the next day...      0  \n",
      "3      whenever it is warm outside, there is a bird t...      0  \n",
      "4      i was on 20-25mg mirtazapine (remeron) over th...      0  \n",
      "...                                                  ...    ...  \n",
      "18530  i’ve been at day 4, not many times, it’s where...      1  \n",
      "18531  hi, everyone i’m a new poster in this sub but ...      1  \n",
      "18532  i have a very hard time falling asleep, i can ...      1  \n",
      "18533  anyone else rly want to sleep and feel tired b...      1  \n",
      "18534  i'm at it again fellas. around this time last ...      1  \n",
      "\n",
      "[18412 rows x 5 columns]\n"
     ]
    }
   ],
   "source": [
    "#Rows that consists of only links, thus ''\n",
    "\n",
    "#select_nan = np.where(combi.applymap(lambda x: x == ''))\n",
    "#combi[combi['selftext'] == ''].index\n",
    "\n",
    "combi = (combi).drop(combi[combi['selftext'] == ''].index, axis = 0)\n",
    "print(combi)  # from 18535 rows × 5 columns to [18412 rows x 5 columns]"
   ]
  },
  {
   "cell_type": "code",
   "execution_count": 14,
   "id": "f587cbe8",
   "metadata": {},
   "outputs": [
    {
     "data": {
      "text/html": [
       "<div>\n",
       "<style scoped>\n",
       "    .dataframe tbody tr th:only-of-type {\n",
       "        vertical-align: middle;\n",
       "    }\n",
       "\n",
       "    .dataframe tbody tr th {\n",
       "        vertical-align: top;\n",
       "    }\n",
       "\n",
       "    .dataframe thead th {\n",
       "        text-align: right;\n",
       "    }\n",
       "</style>\n",
       "<table border=\"1\" class=\"dataframe\">\n",
       "  <thead>\n",
       "    <tr style=\"text-align: right;\">\n",
       "      <th></th>\n",
       "      <th>score</th>\n",
       "      <th>created_utc</th>\n",
       "      <th>title</th>\n",
       "      <th>selftext</th>\n",
       "      <th>covid</th>\n",
       "    </tr>\n",
       "  </thead>\n",
       "  <tbody>\n",
       "    <tr>\n",
       "      <th>130</th>\n",
       "      <td>3</td>\n",
       "      <td>2017-04-02</td>\n",
       "      <td>can caffeine cause insomnia 12-16 hours after ...</td>\n",
       "      <td>or am i just having a bout of insomnia that ha...</td>\n",
       "      <td>0</td>\n",
       "    </tr>\n",
       "    <tr>\n",
       "      <th>131</th>\n",
       "      <td>9</td>\n",
       "      <td>2017-04-03</td>\n",
       "      <td>i feel i can't take it anymore</td>\n",
       "      <td>hey guys. my first post here, thought i'd try ...</td>\n",
       "      <td>0</td>\n",
       "    </tr>\n",
       "    <tr>\n",
       "      <th>132</th>\n",
       "      <td>6</td>\n",
       "      <td>2017-04-03</td>\n",
       "      <td>how do i get help</td>\n",
       "      <td>it's been going on for years and i never figur...</td>\n",
       "      <td>0</td>\n",
       "    </tr>\n",
       "    <tr>\n",
       "      <th>134</th>\n",
       "      <td>2</td>\n",
       "      <td>2017-04-03</td>\n",
       "      <td>middle insomnia</td>\n",
       "      <td>since september i've been experiencing middle ...</td>\n",
       "      <td>0</td>\n",
       "    </tr>\n",
       "    <tr>\n",
       "      <th>135</th>\n",
       "      <td>2</td>\n",
       "      <td>2017-04-04</td>\n",
       "      <td>deteriorating health need advice</td>\n",
       "      <td>male 26 120 caucasian priolosac 20 mg 1 a day ...</td>\n",
       "      <td>0</td>\n",
       "    </tr>\n",
       "  </tbody>\n",
       "</table>\n",
       "</div>"
      ],
      "text/plain": [
       "     score created_utc                                              title  \\\n",
       "130      3  2017-04-02  can caffeine cause insomnia 12-16 hours after ...   \n",
       "131      9  2017-04-03                     i feel i can't take it anymore   \n",
       "132      6  2017-04-03                                  how do i get help   \n",
       "134      2  2017-04-03                                    middle insomnia   \n",
       "135      2  2017-04-04                   deteriorating health need advice   \n",
       "\n",
       "                                              selftext  covid  \n",
       "130  or am i just having a bout of insomnia that ha...      0  \n",
       "131  hey guys. my first post here, thought i'd try ...      0  \n",
       "132  it's been going on for years and i never figur...      0  \n",
       "134  since september i've been experiencing middle ...      0  \n",
       "135  male 26 120 caucasian priolosac 20 mg 1 a day ...      0  "
      ]
     },
     "execution_count": 14,
     "metadata": {},
     "output_type": "execute_result"
    }
   ],
   "source": [
    "combi[130:135]"
   ]
  },
  {
   "cell_type": "code",
   "execution_count": 15,
   "id": "7e8437b7",
   "metadata": {},
   "outputs": [
    {
     "data": {
      "text/plain": [
       "'ugh. nothing is working tonight. filler filler filler filler filler filler filler filler filler filler filler filler filler filler filler filler filler filler filler filler filler filler filler filler filler filler filler filler filler filler filler filler filler filler filler filler'"
      ]
     },
     "execution_count": 15,
     "metadata": {},
     "output_type": "execute_result"
    }
   ],
   "source": [
    "combi.selftext[12562]\n",
    "combi.selftext[12821]"
   ]
  },
  {
   "cell_type": "code",
   "execution_count": 16,
   "id": "d8b645f2",
   "metadata": {},
   "outputs": [
    {
     "data": {
      "text/plain": [
       "'ugh. nothing is working tonight.'"
      ]
     },
     "execution_count": 16,
     "metadata": {},
     "output_type": "execute_result"
    }
   ],
   "source": [
    "combi['selftext'] = combi['selftext'].str.replace('filler', '', case=False).str.strip()\n",
    "\n",
    "combi.selftext[12562]\n",
    "combi.selftext[12821]"
   ]
  },
  {
   "cell_type": "code",
   "execution_count": 17,
   "id": "deefae6c",
   "metadata": {},
   "outputs": [
    {
     "data": {
      "text/plain": [
       "\"basically question is in the title. i am now sleeping thankfully, albeit in a couple to a few phases. the only issue is maintenance right now. which is annoying but at least i'm usually able to sleep through the night. i feel much better and no longer feel bad tension headaches nor that heavy chest feeling or heart palpitations. i feel refreshed too. but, i know i used to still sleep a bit more. so i'm wondering is this a good sign that i am getting adequate sleep, maybe not perfect but enough? how can you tell? what is your way of measuring?\""
      ]
     },
     "execution_count": 17,
     "metadata": {},
     "output_type": "execute_result"
    }
   ],
   "source": [
    "combi.selftext[40]\n",
    "combi.selftext[44]"
   ]
  },
  {
   "cell_type": "code",
   "execution_count": 18,
   "id": "c77f6c1c",
   "metadata": {},
   "outputs": [
    {
     "data": {
      "text/plain": [
       "\"i'm curious to see what you guys think came first. i have constant racing thoughts in my head. i have random conversations i had and others i could see my self having swirling around in my head. i have random words that just pop up and song lyrics. there is a constant dialogue going on in my head that seems highly abnormal. i have noticed that it has gotten worse with sleep deprivation, but i'm not sure if the racing thoughts cause the the insomnia or the resulting sleep deprivation has caused the racing thoughts. what does everyone think? does anyone have this experience with the constant chatter in the brain?\""
      ]
     },
     "execution_count": 18,
     "metadata": {},
     "output_type": "execute_result"
    }
   ],
   "source": [
    "combi['selftext'][5]\n",
    "combi.selftext[443]"
   ]
  },
  {
   "cell_type": "code",
   "execution_count": 19,
   "id": "9ba432d2",
   "metadata": {},
   "outputs": [
    {
     "name": "stderr",
     "output_type": "stream",
     "text": [
      "/var/folders/wd/1sxcpd491kg32hysvmfw5d3r0000gn/T/ipykernel_2599/2090838305.py:5: FutureWarning: The default value of regex will change from True to False in a future version.\n",
      "  combi[\"punctremoved\"] = combi['selftext'].str.replace('[^0-9a-zA-Z]+',' ')\n"
     ]
    }
   ],
   "source": [
    "#Remove Numbers & other strange characters\n",
    "\n",
    "import re\n",
    "\n",
    "combi[\"punctremoved\"] = combi['selftext'].str.replace('[^0-9a-zA-Z]+',' ')\n",
    "#combi[\"punctremoved\"] = combi['selftext'].str.replace('\\d',' ')\n",
    "#combi[\"punctremoved\"] = combi['selftext'].str.replace('-',' ')\n",
    "\n",
    "remove_digits = str.maketrans('0123456789', '          ')\n",
    "combi[\"punctremoved\"] = combi[\"punctremoved\"].str.translate(remove_digits) \n",
    "\n",
    "\n",
    "#combi[\"punctremoved\"] = combi['selftext'].str.replace('[^\\w\\s]','')\n",
    "#s = re.sub('[^0-9a-zA-Z]+', '*', s)\n"
   ]
  },
  {
   "cell_type": "code",
   "execution_count": 20,
   "id": "e6787232",
   "metadata": {},
   "outputs": [
    {
     "data": {
      "text/plain": [
       "score           0\n",
       "created_utc     0\n",
       "title           0\n",
       "selftext        0\n",
       "covid           0\n",
       "punctremoved    0\n",
       "dtype: int64"
      ]
     },
     "execution_count": 20,
     "metadata": {},
     "output_type": "execute_result"
    }
   ],
   "source": [
    "combi.isna().sum()"
   ]
  },
  {
   "cell_type": "code",
   "execution_count": 21,
   "id": "b3827768",
   "metadata": {},
   "outputs": [
    {
     "data": {
      "text/plain": [
       "\"i'm curious to see what you guys think came first. i have constant racing thoughts in my head. i have random conversations i had and others i could see my self having swirling around in my head. i have random words that just pop up and song lyrics. there is a constant dialogue going on in my head that seems highly abnormal. i have noticed that it has gotten worse with sleep deprivation, but i'm not sure if the racing thoughts cause the the insomnia or the resulting sleep deprivation has caused the racing thoughts. what does everyone think? does anyone have this experience with the constant chatter in the brain?\""
      ]
     },
     "execution_count": 21,
     "metadata": {},
     "output_type": "execute_result"
    }
   ],
   "source": [
    "combi.selftext[443]"
   ]
  },
  {
   "cell_type": "code",
   "execution_count": 22,
   "id": "c15d4690",
   "metadata": {},
   "outputs": [],
   "source": [
    "#Word splitting\n",
    "combi[\"nopunctwords\"] = list(combi[\"punctremoved\"].str.split())"
   ]
  },
  {
   "cell_type": "code",
   "execution_count": 23,
   "id": "5fba57d3",
   "metadata": {},
   "outputs": [
    {
     "data": {
      "text/plain": [
       "score                    int64\n",
       "created_utc     datetime64[ns]\n",
       "title                   string\n",
       "selftext                string\n",
       "covid                    int64\n",
       "punctremoved            string\n",
       "nopunctwords            object\n",
       "dtype: object"
      ]
     },
     "execution_count": 23,
     "metadata": {},
     "output_type": "execute_result"
    }
   ],
   "source": [
    "combi.dtypes"
   ]
  },
  {
   "cell_type": "code",
   "execution_count": 24,
   "id": "0ae3bff5",
   "metadata": {},
   "outputs": [
    {
     "name": "stdout",
     "output_type": "stream",
     "text": [
      "dealing with insomnia while packing and moving to a new place is quite the rigorous test. hypno-sleep 'til brooklyn?\n",
      "\n",
      "dealing with insomnia while packing and moving to a new place is quite the rigorous test hypno sleep til brooklyn \n",
      "\n",
      "['dealing', 'with', 'insomnia', 'while', 'packing', 'and', 'moving', 'to', 'a', 'new', 'place', 'is', 'quite', 'the', 'rigorous', 'test', 'hypno', 'sleep', 'til', 'brooklyn']\n",
      "<class 'pandas.core.series.Series'>\n"
     ]
    }
   ],
   "source": [
    "print(combi['selftext'][5])\n",
    "print()\n",
    "print(combi['punctremoved'][5])\n",
    "print()\n",
    "print(combi['nopunctwords'][5]) #list, 'pandas.core.series.Series'\n",
    "print(type(combi['nopunctwords']))"
   ]
  },
  {
   "cell_type": "code",
   "execution_count": 25,
   "id": "097aa935",
   "metadata": {},
   "outputs": [
    {
     "name": "stdout",
     "output_type": "stream",
     "text": [
      "<class 'pandas.core.frame.DataFrame'>\n",
      "Int64Index: 18412 entries, 0 to 18534\n",
      "Data columns (total 7 columns):\n",
      " #   Column        Non-Null Count  Dtype         \n",
      "---  ------        --------------  -----         \n",
      " 0   score         18412 non-null  int64         \n",
      " 1   created_utc   18412 non-null  datetime64[ns]\n",
      " 2   title         18412 non-null  string        \n",
      " 3   selftext      18412 non-null  string        \n",
      " 4   covid         18412 non-null  int64         \n",
      " 5   punctremoved  18412 non-null  string        \n",
      " 6   nopunctwords  18412 non-null  object        \n",
      "dtypes: datetime64[ns](1), int64(2), object(1), string(3)\n",
      "memory usage: 1.6+ MB\n"
     ]
    }
   ],
   "source": [
    "combi.info()"
   ]
  },
  {
   "cell_type": "code",
   "execution_count": 26,
   "id": "cacb2a4c",
   "metadata": {},
   "outputs": [
    {
     "data": {
      "text/plain": [
       "score           0\n",
       "created_utc     0\n",
       "title           0\n",
       "selftext        0\n",
       "covid           0\n",
       "punctremoved    0\n",
       "nopunctwords    0\n",
       "dtype: int64"
      ]
     },
     "execution_count": 26,
     "metadata": {},
     "output_type": "execute_result"
    }
   ],
   "source": [
    "combi.isna().sum()"
   ]
  },
  {
   "cell_type": "code",
   "execution_count": 27,
   "id": "93c41726",
   "metadata": {},
   "outputs": [
    {
     "data": {
      "text/plain": [
       "\"i'm curious to see what you guys think came first. i have constant racing thoughts in my head. i have random conversations i had and others i could see my self having swirling around in my head. i have random words that just pop up and song lyrics. there is a constant dialogue going on in my head that seems highly abnormal. i have noticed that it has gotten worse with sleep deprivation, but i'm not sure if the racing thoughts cause the the insomnia or the resulting sleep deprivation has caused the racing thoughts. what does everyone think? does anyone have this experience with the constant chatter in the brain?\""
      ]
     },
     "execution_count": 27,
     "metadata": {},
     "output_type": "execute_result"
    }
   ],
   "source": [
    "combi.selftext[443]"
   ]
  },
  {
   "cell_type": "code",
   "execution_count": 28,
   "id": "cf614a85",
   "metadata": {},
   "outputs": [
    {
     "data": {
      "text/plain": [
       "\"from pathlib import Path  \\nfilepath = Path('/Users/selinzobu/Desktop/1SCRAPE DATA/combi1.csv')  \\nfilepath.parent.mkdir(parents=True, exist_ok=True)  \\ncombi.to_csv(filepath, index = False) \""
      ]
     },
     "execution_count": 28,
     "metadata": {},
     "output_type": "execute_result"
    }
   ],
   "source": [
    "'''from pathlib import Path  \n",
    "filepath = Path('/Users/selinzobu/Desktop/1SCRAPE DATA/combi1.csv')  \n",
    "filepath.parent.mkdir(parents=True, exist_ok=True)  \n",
    "combi.to_csv(filepath, index = False) '''"
   ]
  },
  {
   "cell_type": "code",
   "execution_count": 24,
   "id": "2c13e39b",
   "metadata": {},
   "outputs": [],
   "source": [
    "###################################################################################################################"
   ]
  },
  {
   "cell_type": "code",
   "execution_count": 29,
   "id": "a95bba8d",
   "metadata": {},
   "outputs": [
    {
     "data": {
      "text/plain": [
       "score           0\n",
       "created_utc     0\n",
       "title           0\n",
       "selftext        0\n",
       "covid           0\n",
       "punctremoved    0\n",
       "nopunctwords    0\n",
       "dtype: int64"
      ]
     },
     "execution_count": 29,
     "metadata": {},
     "output_type": "execute_result"
    }
   ],
   "source": [
    "import pandas as pd \n",
    "\n",
    "combi1 = pd.read_csv('/Users/selinzobu/Desktop/1SCRAPE DATA/combi1.csv')\n",
    "\n",
    "(combi1.isna().sum())"
   ]
  },
  {
   "cell_type": "code",
   "execution_count": 30,
   "id": "8bcc9106",
   "metadata": {},
   "outputs": [
    {
     "data": {
      "text/plain": [
       "(18412, 7)"
      ]
     },
     "execution_count": 30,
     "metadata": {},
     "output_type": "execute_result"
    }
   ],
   "source": [
    "combi.shape #(18412, 7)"
   ]
  },
  {
   "cell_type": "code",
   "execution_count": 31,
   "id": "3d439393",
   "metadata": {},
   "outputs": [
    {
     "data": {
      "text/html": [
       "<div>\n",
       "<style scoped>\n",
       "    .dataframe tbody tr th:only-of-type {\n",
       "        vertical-align: middle;\n",
       "    }\n",
       "\n",
       "    .dataframe tbody tr th {\n",
       "        vertical-align: top;\n",
       "    }\n",
       "\n",
       "    .dataframe thead th {\n",
       "        text-align: right;\n",
       "    }\n",
       "</style>\n",
       "<table border=\"1\" class=\"dataframe\">\n",
       "  <thead>\n",
       "    <tr style=\"text-align: right;\">\n",
       "      <th></th>\n",
       "      <th>score</th>\n",
       "      <th>created_utc</th>\n",
       "      <th>title</th>\n",
       "      <th>selftext</th>\n",
       "      <th>covid</th>\n",
       "      <th>punctremoved</th>\n",
       "      <th>nopunctwords</th>\n",
       "    </tr>\n",
       "  </thead>\n",
       "  <tbody>\n",
       "    <tr>\n",
       "      <th>0</th>\n",
       "      <td>5</td>\n",
       "      <td>2017-03-01</td>\n",
       "      <td>an app that might help my fellow insomniacs!</td>\n",
       "      <td>i've used this app called 'relax melodies' for...</td>\n",
       "      <td>0</td>\n",
       "      <td>i ve used this app called relax melodies for o...</td>\n",
       "      <td>['i', 've', 'used', 'this', 'app', 'called', '...</td>\n",
       "    </tr>\n",
       "    <tr>\n",
       "      <th>1</th>\n",
       "      <td>2</td>\n",
       "      <td>2017-03-01</td>\n",
       "      <td>awake</td>\n",
       "      <td>i felt reasonably tired at my bed time. i got ...</td>\n",
       "      <td>0</td>\n",
       "      <td>i felt reasonably tired at my bed time i got i...</td>\n",
       "      <td>['i', 'felt', 'reasonably', 'tired', 'at', 'my...</td>\n",
       "    </tr>\n",
       "    <tr>\n",
       "      <th>2</th>\n",
       "      <td>10</td>\n",
       "      <td>2017-03-01</td>\n",
       "      <td>listening to others sleep</td>\n",
       "      <td>and to hear how they slept poorly the next day...</td>\n",
       "      <td>0</td>\n",
       "      <td>and to hear how they slept poorly the next day...</td>\n",
       "      <td>['and', 'to', 'hear', 'how', 'they', 'slept', ...</td>\n",
       "    </tr>\n",
       "    <tr>\n",
       "      <th>3</th>\n",
       "      <td>5</td>\n",
       "      <td>2017-03-01</td>\n",
       "      <td>birds chriping in the early am</td>\n",
       "      <td>whenever it is warm outside, there is a bird t...</td>\n",
       "      <td>0</td>\n",
       "      <td>whenever it is warm outside there is a bird th...</td>\n",
       "      <td>['whenever', 'it', 'is', 'warm', 'outside', 't...</td>\n",
       "    </tr>\n",
       "    <tr>\n",
       "      <th>4</th>\n",
       "      <td>3</td>\n",
       "      <td>2017-03-01</td>\n",
       "      <td>lost sleep capacity from mirtazapine?</td>\n",
       "      <td>i was on 20-25mg mirtazapine (remeron) over th...</td>\n",
       "      <td>0</td>\n",
       "      <td>i was on      mg mirtazapine remeron over the ...</td>\n",
       "      <td>['i', 'was', 'on', 'mg', 'mirtazapine', 'remer...</td>\n",
       "    </tr>\n",
       "    <tr>\n",
       "      <th>...</th>\n",
       "      <td>...</td>\n",
       "      <td>...</td>\n",
       "      <td>...</td>\n",
       "      <td>...</td>\n",
       "      <td>...</td>\n",
       "      <td>...</td>\n",
       "      <td>...</td>\n",
       "    </tr>\n",
       "    <tr>\n",
       "      <th>18407</th>\n",
       "      <td>4</td>\n",
       "      <td>2021-02-27</td>\n",
       "      <td>what is day 5 like?</td>\n",
       "      <td>i’ve been at day 4, not many times, it’s where...</td>\n",
       "      <td>1</td>\n",
       "      <td>i ve been at day   not many times it s where i...</td>\n",
       "      <td>['i', 've', 'been', 'at', 'day', 'not', 'many'...</td>\n",
       "    </tr>\n",
       "    <tr>\n",
       "      <th>18408</th>\n",
       "      <td>1</td>\n",
       "      <td>2021-02-27</td>\n",
       "      <td>new trouble falling asleep</td>\n",
       "      <td>hi, everyone i’m a new poster in this sub but ...</td>\n",
       "      <td>1</td>\n",
       "      <td>hi everyone i m a new poster in this sub but i...</td>\n",
       "      <td>['hi', 'everyone', 'i', 'm', 'a', 'new', 'post...</td>\n",
       "    </tr>\n",
       "    <tr>\n",
       "      <th>18409</th>\n",
       "      <td>3</td>\n",
       "      <td>2021-02-27</td>\n",
       "      <td>does this classify as insomnia?</td>\n",
       "      <td>i have a very hard time falling asleep, i can ...</td>\n",
       "      <td>1</td>\n",
       "      <td>i have a very hard time falling asleep i can b...</td>\n",
       "      <td>['i', 'have', 'a', 'very', 'hard', 'time', 'fa...</td>\n",
       "    </tr>\n",
       "    <tr>\n",
       "      <th>18410</th>\n",
       "      <td>17</td>\n",
       "      <td>2021-02-28</td>\n",
       "      <td>too scared to sleep</td>\n",
       "      <td>anyone else rly want to sleep and feel tired b...</td>\n",
       "      <td>1</td>\n",
       "      <td>anyone else rly want to sleep and feel tired b...</td>\n",
       "      <td>['anyone', 'else', 'rly', 'want', 'to', 'sleep...</td>\n",
       "    </tr>\n",
       "    <tr>\n",
       "      <th>18411</th>\n",
       "      <td>1</td>\n",
       "      <td>2021-02-28</td>\n",
       "      <td>feels invincible (31 hours)</td>\n",
       "      <td>i'm at it again fellas. around this time last ...</td>\n",
       "      <td>1</td>\n",
       "      <td>i m at it again fellas around this time last y...</td>\n",
       "      <td>['i', 'm', 'at', 'it', 'again', 'fellas', 'aro...</td>\n",
       "    </tr>\n",
       "  </tbody>\n",
       "</table>\n",
       "<p>18412 rows × 7 columns</p>\n",
       "</div>"
      ],
      "text/plain": [
       "       score created_utc                                         title  \\\n",
       "0          5  2017-03-01  an app that might help my fellow insomniacs!   \n",
       "1          2  2017-03-01                                         awake   \n",
       "2         10  2017-03-01                     listening to others sleep   \n",
       "3          5  2017-03-01                birds chriping in the early am   \n",
       "4          3  2017-03-01         lost sleep capacity from mirtazapine?   \n",
       "...      ...         ...                                           ...   \n",
       "18407      4  2021-02-27                           what is day 5 like?   \n",
       "18408      1  2021-02-27                    new trouble falling asleep   \n",
       "18409      3  2021-02-27               does this classify as insomnia?   \n",
       "18410     17  2021-02-28                           too scared to sleep   \n",
       "18411      1  2021-02-28                   feels invincible (31 hours)   \n",
       "\n",
       "                                                selftext  covid  \\\n",
       "0      i've used this app called 'relax melodies' for...      0   \n",
       "1      i felt reasonably tired at my bed time. i got ...      0   \n",
       "2      and to hear how they slept poorly the next day...      0   \n",
       "3      whenever it is warm outside, there is a bird t...      0   \n",
       "4      i was on 20-25mg mirtazapine (remeron) over th...      0   \n",
       "...                                                  ...    ...   \n",
       "18407  i’ve been at day 4, not many times, it’s where...      1   \n",
       "18408  hi, everyone i’m a new poster in this sub but ...      1   \n",
       "18409  i have a very hard time falling asleep, i can ...      1   \n",
       "18410  anyone else rly want to sleep and feel tired b...      1   \n",
       "18411  i'm at it again fellas. around this time last ...      1   \n",
       "\n",
       "                                            punctremoved  \\\n",
       "0      i ve used this app called relax melodies for o...   \n",
       "1      i felt reasonably tired at my bed time i got i...   \n",
       "2      and to hear how they slept poorly the next day...   \n",
       "3      whenever it is warm outside there is a bird th...   \n",
       "4      i was on      mg mirtazapine remeron over the ...   \n",
       "...                                                  ...   \n",
       "18407  i ve been at day   not many times it s where i...   \n",
       "18408  hi everyone i m a new poster in this sub but i...   \n",
       "18409  i have a very hard time falling asleep i can b...   \n",
       "18410  anyone else rly want to sleep and feel tired b...   \n",
       "18411  i m at it again fellas around this time last y...   \n",
       "\n",
       "                                            nopunctwords  \n",
       "0      ['i', 've', 'used', 'this', 'app', 'called', '...  \n",
       "1      ['i', 'felt', 'reasonably', 'tired', 'at', 'my...  \n",
       "2      ['and', 'to', 'hear', 'how', 'they', 'slept', ...  \n",
       "3      ['whenever', 'it', 'is', 'warm', 'outside', 't...  \n",
       "4      ['i', 'was', 'on', 'mg', 'mirtazapine', 'remer...  \n",
       "...                                                  ...  \n",
       "18407  ['i', 've', 'been', 'at', 'day', 'not', 'many'...  \n",
       "18408  ['hi', 'everyone', 'i', 'm', 'a', 'new', 'post...  \n",
       "18409  ['i', 'have', 'a', 'very', 'hard', 'time', 'fa...  \n",
       "18410  ['anyone', 'else', 'rly', 'want', 'to', 'sleep...  \n",
       "18411  ['i', 'm', 'at', 'it', 'again', 'fellas', 'aro...  \n",
       "\n",
       "[18412 rows x 7 columns]"
      ]
     },
     "execution_count": 31,
     "metadata": {},
     "output_type": "execute_result"
    }
   ],
   "source": [
    "combi1"
   ]
  },
  {
   "cell_type": "code",
   "execution_count": 32,
   "id": "550a9296",
   "metadata": {},
   "outputs": [],
   "source": [
    "combi1['selftext']=combi1['selftext'].apply(str)\n",
    "combi1['created_utc'] = combi1['created_utc'].astype('datetime64[ns]')\n",
    "#combi['created_utc'].dt.strftime('%d/%m/%y')\n",
    "combi1['title'] = combi1['title'].astype(\"string\")\n",
    "combi1['selftext'] = combi1['selftext'].astype(\"string\")\n",
    "combi1['punctremoved'] = combi1['punctremoved'].astype(\"string\")\n",
    "combi1['nopunctwords'] = combi1['nopunctwords'].astype(\"string\")"
   ]
  },
  {
   "cell_type": "code",
   "execution_count": 33,
   "id": "d0c0e15a",
   "metadata": {},
   "outputs": [
    {
     "data": {
      "text/plain": [
       "score                    int64\n",
       "created_utc     datetime64[ns]\n",
       "title                   string\n",
       "selftext                string\n",
       "covid                    int64\n",
       "punctremoved            string\n",
       "nopunctwords            string\n",
       "dtype: object"
      ]
     },
     "execution_count": 33,
     "metadata": {},
     "output_type": "execute_result"
    }
   ],
   "source": [
    "combi1.dtypes"
   ]
  },
  {
   "cell_type": "code",
   "execution_count": 34,
   "id": "4af86999",
   "metadata": {},
   "outputs": [
    {
     "data": {
      "text/plain": [
       "'now what?'"
      ]
     },
     "execution_count": 34,
     "metadata": {},
     "output_type": "execute_result"
    }
   ],
   "source": [
    "combi1.selftext[443]"
   ]
  },
  {
   "cell_type": "code",
   "execution_count": 35,
   "id": "ec75ce41",
   "metadata": {},
   "outputs": [],
   "source": [
    "#https://practicaldatascience.co.uk/machine-learning/how-to-preprocess-text-for-nlp-in-four-easy-steps\n",
    "\n",
    "def tokenize(column):\n",
    "    \"\"\"Tokenizes a Pandas dataframe column and returns a list of tokens.\n",
    "\n",
    "    Args:\n",
    "        column: Pandas dataframe column (i.e. df['text']).\n",
    "\n",
    "    Returns:\n",
    "        tokens (list): Tokenized list, i.e. [Donald, Trump, tweets]\n",
    "\n",
    "    \"\"\"\n",
    "\n",
    "    tokens = nltk.word_tokenize(column)\n",
    "    return [w for w in tokens if w.isalpha()] \n"
   ]
  },
  {
   "cell_type": "code",
   "execution_count": 36,
   "id": "6f6a9390",
   "metadata": {},
   "outputs": [],
   "source": [
    "def ngrams(column, n):\n",
    "    \"\"\"Tokenizes a Pandas dataframe column and returns a list of tokens.\n",
    "\n",
    "    Args:\n",
    "        column: Pandas dataframe column (i.e. df['text']).\n",
    "\n",
    "    Returns:\n",
    "        tokens (list): Tokenized list, i.e. [Donald, Trump, tweets]\n",
    "\n",
    "    \"\"\"\n",
    "\n",
    "    tokens = nltk.word_tokenize(column)\n",
    "    tokens = [w for w in tokens if w.isalpha()] \n",
    "    \n",
    "    # Use the zip function to help us generate n-grams\n",
    "    # Concatentate the tokens into ngrams and return\n",
    "    ngrams = zip(*[tokens[i:] for i in range(n)])\n",
    "    return [\" \".join(ngram) for ngram in ngrams]\n"
   ]
  },
  {
   "cell_type": "code",
   "execution_count": 37,
   "id": "3722c2f5",
   "metadata": {},
   "outputs": [],
   "source": [
    "import contractions\n",
    "\n",
    "def contraction(column):\n",
    "    \"\"\"Expand contractions. \n",
    "\n",
    "    Args:\n",
    "        column: Pandas dataframe column (i.e. df['text']).\n",
    "\n",
    "    Returns:\n",
    "        tokens (list):  list, i.e. [Donald, Trump, tweets]\n",
    "\n",
    "    \"\"\"\n",
    "\n",
    "    cont = contractions.fix(column)    \n",
    "    return [w for w in cont] "
   ]
  },
  {
   "cell_type": "code",
   "execution_count": 40,
   "id": "69baf5b9",
   "metadata": {},
   "outputs": [
    {
     "data": {
      "text/plain": [
       "\"import contractions\\n\\ncombi['contra'] = combi.apply(lambda x: contraction(combi['selftext']), axis=1)\\n\\ncombi[['selftext', 'contra']].head()\\n\""
      ]
     },
     "execution_count": 40,
     "metadata": {},
     "output_type": "execute_result"
    }
   ],
   "source": [
    "'''import contractions\n",
    "\n",
    "combi['contra'] = combi.apply(lambda x: contraction(combi['selftext']), axis=1)\n",
    "\n",
    "combi[['selftext', 'contra']].head()\n",
    "'''"
   ]
  },
  {
   "cell_type": "code",
   "execution_count": 38,
   "id": "8f49c319",
   "metadata": {},
   "outputs": [
    {
     "name": "stdout",
     "output_type": "stream",
     "text": [
      "<class 'str'> <class 'str'>\n",
      "<class 'pandas.core.series.Series'> <class 'pandas.core.series.Series'>\n",
      "\n",
      "dealing with insomnia while packing and moving to a new place is quite the rigorous test hypno sleep til brooklyn \n",
      "\n",
      "dealing with insomnia while packing and moving to a new place is quite the rigorous test. hypno-sleep 'til brooklyn?\n"
     ]
    }
   ],
   "source": [
    "print(type(combi1['punctremoved'][0]), type(combi1['selftext'][0]) )\n",
    "print(type(combi1['punctremoved']), type(combi1['selftext']) )\n",
    "print()\n",
    "print(combi1['punctremoved'][5])\n",
    "print()\n",
    "print(combi1['selftext'][5])"
   ]
  },
  {
   "cell_type": "code",
   "execution_count": 39,
   "id": "e01aefec",
   "metadata": {},
   "outputs": [
    {
     "data": {
      "text/html": [
       "<div>\n",
       "<style scoped>\n",
       "    .dataframe tbody tr th:only-of-type {\n",
       "        vertical-align: middle;\n",
       "    }\n",
       "\n",
       "    .dataframe tbody tr th {\n",
       "        vertical-align: top;\n",
       "    }\n",
       "\n",
       "    .dataframe thead th {\n",
       "        text-align: right;\n",
       "    }\n",
       "</style>\n",
       "<table border=\"1\" class=\"dataframe\">\n",
       "  <thead>\n",
       "    <tr style=\"text-align: right;\">\n",
       "      <th></th>\n",
       "      <th>selftext</th>\n",
       "      <th>tokenized</th>\n",
       "      <th>tokenized2</th>\n",
       "      <th>nopunctwords</th>\n",
       "    </tr>\n",
       "  </thead>\n",
       "  <tbody>\n",
       "    <tr>\n",
       "      <th>0</th>\n",
       "      <td>i've used this app called 'relax melodies' for...</td>\n",
       "      <td>[i, used, this, app, called, melodies, for, ov...</td>\n",
       "      <td>[i, ve, used, this, app, called, relax, melodi...</td>\n",
       "      <td>['i', 've', 'used', 'this', 'app', 'called', '...</td>\n",
       "    </tr>\n",
       "    <tr>\n",
       "      <th>1</th>\n",
       "      <td>i felt reasonably tired at my bed time. i got ...</td>\n",
       "      <td>[i, felt, reasonably, tired, at, my, bed, time...</td>\n",
       "      <td>[i, felt, reasonably, tired, at, my, bed, time...</td>\n",
       "      <td>['i', 'felt', 'reasonably', 'tired', 'at', 'my...</td>\n",
       "    </tr>\n",
       "    <tr>\n",
       "      <th>2</th>\n",
       "      <td>and to hear how they slept poorly the next day...</td>\n",
       "      <td>[and, to, hear, how, they, slept, poorly, the,...</td>\n",
       "      <td>[and, to, hear, how, they, slept, poorly, the,...</td>\n",
       "      <td>['and', 'to', 'hear', 'how', 'they', 'slept', ...</td>\n",
       "    </tr>\n",
       "    <tr>\n",
       "      <th>3</th>\n",
       "      <td>whenever it is warm outside, there is a bird t...</td>\n",
       "      <td>[whenever, it, is, warm, outside, there, is, a...</td>\n",
       "      <td>[whenever, it, is, warm, outside, there, is, a...</td>\n",
       "      <td>['whenever', 'it', 'is', 'warm', 'outside', 't...</td>\n",
       "    </tr>\n",
       "    <tr>\n",
       "      <th>4</th>\n",
       "      <td>i was on 20-25mg mirtazapine (remeron) over th...</td>\n",
       "      <td>[i, was, on, mirtazapine, remeron, over, the, ...</td>\n",
       "      <td>[i, was, on, mg, mirtazapine, remeron, over, t...</td>\n",
       "      <td>['i', 'was', 'on', 'mg', 'mirtazapine', 'remer...</td>\n",
       "    </tr>\n",
       "  </tbody>\n",
       "</table>\n",
       "</div>"
      ],
      "text/plain": [
       "                                            selftext  \\\n",
       "0  i've used this app called 'relax melodies' for...   \n",
       "1  i felt reasonably tired at my bed time. i got ...   \n",
       "2  and to hear how they slept poorly the next day...   \n",
       "3  whenever it is warm outside, there is a bird t...   \n",
       "4  i was on 20-25mg mirtazapine (remeron) over th...   \n",
       "\n",
       "                                           tokenized  \\\n",
       "0  [i, used, this, app, called, melodies, for, ov...   \n",
       "1  [i, felt, reasonably, tired, at, my, bed, time...   \n",
       "2  [and, to, hear, how, they, slept, poorly, the,...   \n",
       "3  [whenever, it, is, warm, outside, there, is, a...   \n",
       "4  [i, was, on, mirtazapine, remeron, over, the, ...   \n",
       "\n",
       "                                          tokenized2  \\\n",
       "0  [i, ve, used, this, app, called, relax, melodi...   \n",
       "1  [i, felt, reasonably, tired, at, my, bed, time...   \n",
       "2  [and, to, hear, how, they, slept, poorly, the,...   \n",
       "3  [whenever, it, is, warm, outside, there, is, a...   \n",
       "4  [i, was, on, mg, mirtazapine, remeron, over, t...   \n",
       "\n",
       "                                        nopunctwords  \n",
       "0  ['i', 've', 'used', 'this', 'app', 'called', '...  \n",
       "1  ['i', 'felt', 'reasonably', 'tired', 'at', 'my...  \n",
       "2  ['and', 'to', 'hear', 'how', 'they', 'slept', ...  \n",
       "3  ['whenever', 'it', 'is', 'warm', 'outside', 't...  \n",
       "4  ['i', 'was', 'on', 'mg', 'mirtazapine', 'remer...  "
      ]
     },
     "execution_count": 39,
     "metadata": {},
     "output_type": "execute_result"
    }
   ],
   "source": [
    "import nltk\n",
    "\n",
    "combi1['tokenized'] = combi1.apply(lambda x: tokenize(x['selftext']), axis=1)\n",
    "combi1['tokenized2'] = combi1.apply(lambda x: tokenize(x['punctremoved']), axis=1)\n",
    "\n",
    "#combi['tokenized'] = combi['tokenized'].astype(\"string\")\n",
    "\n",
    "combi1[['selftext', 'tokenized','tokenized2', 'nopunctwords']].head()"
   ]
  },
  {
   "cell_type": "code",
   "execution_count": 50,
   "id": "8f92f007",
   "metadata": {},
   "outputs": [
    {
     "data": {
      "text/plain": [
       "[]"
      ]
     },
     "execution_count": 50,
     "metadata": {},
     "output_type": "execute_result"
    }
   ],
   "source": [
    "combi1.tokenized[443]\n",
    "combi1.tokenized[1420]\n",
    "combi1.tokenized[1974]\n",
    "#combi1.tokenized[4]"
   ]
  },
  {
   "cell_type": "code",
   "execution_count": 54,
   "id": "ab0fed21",
   "metadata": {},
   "outputs": [],
   "source": [
    "#combi['tokenized2'] = combi.apply(lambda x: tokenize(x['punctremoved']), axis=1)\n",
    "#combi['tokenized2'] = combi['tokenized2'].astype(\"string\")\n",
    "\n",
    "#combi[['selftext', 'tokenized2']].head()"
   ]
  },
  {
   "cell_type": "code",
   "execution_count": 51,
   "id": "632a4efa",
   "metadata": {},
   "outputs": [
    {
     "data": {
      "text/plain": [
       "score                    int64\n",
       "created_utc     datetime64[ns]\n",
       "title                   string\n",
       "selftext                string\n",
       "covid                    int64\n",
       "punctremoved            string\n",
       "nopunctwords            string\n",
       "tokenized               object\n",
       "tokenized2              object\n",
       "dtype: object"
      ]
     },
     "execution_count": 51,
     "metadata": {},
     "output_type": "execute_result"
    }
   ],
   "source": [
    "combi1.dtypes"
   ]
  },
  {
   "cell_type": "code",
   "execution_count": 52,
   "id": "04d24b17",
   "metadata": {},
   "outputs": [
    {
     "data": {
      "text/plain": [
       "(str, list)"
      ]
     },
     "execution_count": 52,
     "metadata": {},
     "output_type": "execute_result"
    }
   ],
   "source": [
    "type(combi1['nopunctwords'][0]), type(combi1['tokenized'][0])"
   ]
  },
  {
   "cell_type": "code",
   "execution_count": 53,
   "id": "a6cc5c4a",
   "metadata": {},
   "outputs": [
    {
     "data": {
      "text/plain": [
       "score           0\n",
       "created_utc     0\n",
       "title           0\n",
       "selftext        0\n",
       "covid           0\n",
       "punctremoved    0\n",
       "nopunctwords    0\n",
       "tokenized       0\n",
       "tokenized2      0\n",
       "dtype: int64"
      ]
     },
     "execution_count": 53,
     "metadata": {},
     "output_type": "execute_result"
    }
   ],
   "source": [
    "combi1.isna().sum()"
   ]
  },
  {
   "cell_type": "code",
   "execution_count": 54,
   "id": "f01b369e",
   "metadata": {},
   "outputs": [
    {
     "data": {
      "text/plain": [
       "0"
      ]
     },
     "execution_count": 54,
     "metadata": {},
     "output_type": "execute_result"
    }
   ],
   "source": [
    "len(combi1[combi1['nopunctwords'].map(lambda d: len(d)) == 0])"
   ]
  },
  {
   "cell_type": "code",
   "execution_count": 58,
   "id": "60a318c0",
   "metadata": {},
   "outputs": [
    {
     "data": {
      "text/html": [
       "<div>\n",
       "<style scoped>\n",
       "    .dataframe tbody tr th:only-of-type {\n",
       "        vertical-align: middle;\n",
       "    }\n",
       "\n",
       "    .dataframe tbody tr th {\n",
       "        vertical-align: top;\n",
       "    }\n",
       "\n",
       "    .dataframe thead th {\n",
       "        text-align: right;\n",
       "    }\n",
       "</style>\n",
       "<table border=\"1\" class=\"dataframe\">\n",
       "  <thead>\n",
       "    <tr style=\"text-align: right;\">\n",
       "      <th></th>\n",
       "      <th>score</th>\n",
       "      <th>created_utc</th>\n",
       "      <th>title</th>\n",
       "      <th>selftext</th>\n",
       "      <th>covid</th>\n",
       "      <th>punctremoved</th>\n",
       "      <th>nopunctwords</th>\n",
       "      <th>tokenized</th>\n",
       "      <th>tokenized2</th>\n",
       "    </tr>\n",
       "  </thead>\n",
       "  <tbody>\n",
       "    <tr>\n",
       "      <th>1974</th>\n",
       "      <td>2</td>\n",
       "      <td>2018-03-22</td>\n",
       "      <td>fart</td>\n",
       "      <td>💨</td>\n",
       "      <td>0</td>\n",
       "      <td></td>\n",
       "      <td>[]</td>\n",
       "      <td>[]</td>\n",
       "      <td>[]</td>\n",
       "    </tr>\n",
       "    <tr>\n",
       "      <th>4226</th>\n",
       "      <td>9</td>\n",
       "      <td>2018-12-05</td>\n",
       "      <td>can being sleep deprived cause body aches and ...</td>\n",
       "      <td>?</td>\n",
       "      <td>0</td>\n",
       "      <td></td>\n",
       "      <td>[]</td>\n",
       "      <td>[]</td>\n",
       "      <td>[]</td>\n",
       "    </tr>\n",
       "    <tr>\n",
       "      <th>4691</th>\n",
       "      <td>5</td>\n",
       "      <td>2019-01-15</td>\n",
       "      <td>no sleep tonight</td>\n",
       "      <td>.</td>\n",
       "      <td>0</td>\n",
       "      <td></td>\n",
       "      <td>[]</td>\n",
       "      <td>[]</td>\n",
       "      <td>[]</td>\n",
       "    </tr>\n",
       "    <tr>\n",
       "      <th>6396</th>\n",
       "      <td>2</td>\n",
       "      <td>2019-05-27</td>\n",
       "      <td>you are not alone</td>\n",
       "      <td>/r/insomnia/comments/btkjjy/you_are_not_alone/</td>\n",
       "      <td>0</td>\n",
       "      <td>r insomnia comments btkjjy you are not alone</td>\n",
       "      <td>['r', 'insomnia', 'comments', 'btkjjy', 'you',...</td>\n",
       "      <td>[]</td>\n",
       "      <td>[r, insomnia, comments, btkjjy, you, are, not,...</td>\n",
       "    </tr>\n",
       "    <tr>\n",
       "      <th>6402</th>\n",
       "      <td>2</td>\n",
       "      <td>2019-05-27</td>\n",
       "      <td>i can only sleep if i take 1 mg of xanax and 2...</td>\n",
       "      <td>/r/insomnia/comments/btpuoa/i_can_only_sleep_i...</td>\n",
       "      <td>0</td>\n",
       "      <td>r insomnia comments btpuoa i can only sleep i...</td>\n",
       "      <td>['r', 'insomnia', 'comments', 'btpuoa', 'i', '...</td>\n",
       "      <td>[]</td>\n",
       "      <td>[r, insomnia, comments, btpuoa, i, can, only, ...</td>\n",
       "    </tr>\n",
       "    <tr>\n",
       "      <th>6403</th>\n",
       "      <td>1</td>\n",
       "      <td>2019-05-27</td>\n",
       "      <td>sooo i can finally fall asleep pretty fast but...</td>\n",
       "      <td>/r/insomnia/comments/btqv72/sooo_i_can_finally...</td>\n",
       "      <td>0</td>\n",
       "      <td>r insomnia comments btqv   sooo i can finally...</td>\n",
       "      <td>['r', 'insomnia', 'comments', 'btqv', 'sooo', ...</td>\n",
       "      <td>[]</td>\n",
       "      <td>[r, insomnia, comments, btqv, sooo, i, can, fi...</td>\n",
       "    </tr>\n",
       "    <tr>\n",
       "      <th>11051</th>\n",
       "      <td>68</td>\n",
       "      <td>2020-03-01</td>\n",
       "      <td>i’ve had 4 hours of sleep in the last 2 days</td>\n",
       "      <td>:(</td>\n",
       "      <td>1</td>\n",
       "      <td></td>\n",
       "      <td>[]</td>\n",
       "      <td>[]</td>\n",
       "      <td>[]</td>\n",
       "    </tr>\n",
       "  </tbody>\n",
       "</table>\n",
       "</div>"
      ],
      "text/plain": [
       "       score created_utc                                              title  \\\n",
       "1974       2  2018-03-22                                               fart   \n",
       "4226       9  2018-12-05  can being sleep deprived cause body aches and ...   \n",
       "4691       5  2019-01-15                                   no sleep tonight   \n",
       "6396       2  2019-05-27                                  you are not alone   \n",
       "6402       2  2019-05-27  i can only sleep if i take 1 mg of xanax and 2...   \n",
       "6403       1  2019-05-27  sooo i can finally fall asleep pretty fast but...   \n",
       "11051     68  2020-03-01       i’ve had 4 hours of sleep in the last 2 days   \n",
       "\n",
       "                                                selftext  covid  \\\n",
       "1974                                                   💨      0   \n",
       "4226                                                   ?      0   \n",
       "4691                                                   .      0   \n",
       "6396      /r/insomnia/comments/btkjjy/you_are_not_alone/      0   \n",
       "6402   /r/insomnia/comments/btpuoa/i_can_only_sleep_i...      0   \n",
       "6403   /r/insomnia/comments/btqv72/sooo_i_can_finally...      0   \n",
       "11051                                                 :(      1   \n",
       "\n",
       "                                            punctremoved  \\\n",
       "1974                                                       \n",
       "4226                                                       \n",
       "4691                                                       \n",
       "6396       r insomnia comments btkjjy you are not alone    \n",
       "6402    r insomnia comments btpuoa i can only sleep i...   \n",
       "6403    r insomnia comments btqv   sooo i can finally...   \n",
       "11051                                                      \n",
       "\n",
       "                                            nopunctwords tokenized  \\\n",
       "1974                                                  []        []   \n",
       "4226                                                  []        []   \n",
       "4691                                                  []        []   \n",
       "6396   ['r', 'insomnia', 'comments', 'btkjjy', 'you',...        []   \n",
       "6402   ['r', 'insomnia', 'comments', 'btpuoa', 'i', '...        []   \n",
       "6403   ['r', 'insomnia', 'comments', 'btqv', 'sooo', ...        []   \n",
       "11051                                                 []        []   \n",
       "\n",
       "                                              tokenized2  \n",
       "1974                                                  []  \n",
       "4226                                                  []  \n",
       "4691                                                  []  \n",
       "6396   [r, insomnia, comments, btkjjy, you, are, not,...  \n",
       "6402   [r, insomnia, comments, btpuoa, i, can, only, ...  \n",
       "6403   [r, insomnia, comments, btqv, sooo, i, can, fi...  \n",
       "11051                                                 []  "
      ]
     },
     "execution_count": 58,
     "metadata": {},
     "output_type": "execute_result"
    }
   ],
   "source": [
    "(combi1[combi1['tokenized'].map(lambda d: len(d)) == 0])"
   ]
  },
  {
   "cell_type": "code",
   "execution_count": 59,
   "id": "bb9e7aa1",
   "metadata": {},
   "outputs": [
    {
     "data": {
      "text/plain": [
       "443                [now, what]\n",
       "1420         [what, do, i, do]\n",
       "1974                        []\n",
       "3256               [that, all]\n",
       "3759                     [had]\n",
       "4226                        []\n",
       "4691                        []\n",
       "6396                        []\n",
       "6402                        []\n",
       "6403                        []\n",
       "6855     [where, are, you, at]\n",
       "7491          [how, about, no]\n",
       "11051                       []\n",
       "Name: tokenized, dtype: object"
      ]
     },
     "execution_count": 59,
     "metadata": {},
     "output_type": "execute_result"
    }
   ],
   "source": [
    "(combi1.tokenized[[443, 1420, 1974, 3256, 3759, 4226, 4691, 6396, 6402, 6403, 6855, 7491, 11051]])"
   ]
  },
  {
   "cell_type": "code",
   "execution_count": 60,
   "id": "99c355f6",
   "metadata": {},
   "outputs": [
    {
     "data": {
      "text/plain": [
       "443                                        ['now', 'what']\n",
       "1420                             ['what', 'do', 'i', 'do']\n",
       "1974                                                    []\n",
       "3256                                  ['that', 's', 'all']\n",
       "3759                                               ['had']\n",
       "4226                                                    []\n",
       "4691                                                    []\n",
       "6396     ['r', 'insomnia', 'comments', 'btkjjy', 'you',...\n",
       "6402     ['r', 'insomnia', 'comments', 'btpuoa', 'i', '...\n",
       "6403     ['r', 'insomnia', 'comments', 'btqv', 'sooo', ...\n",
       "6855                         ['where', 'are', 'you', 'at']\n",
       "7491                                ['how', 'about', 'no']\n",
       "11051                                                   []\n",
       "Name: nopunctwords, dtype: string"
      ]
     },
     "execution_count": 60,
     "metadata": {},
     "output_type": "execute_result"
    }
   ],
   "source": [
    "combi1.nopunctwords[[443, 1420, 1974, 3256, 3759, 4226, 4691, 6396, 6402, 6403, 6855, 7491, 11051]]"
   ]
  },
  {
   "cell_type": "code",
   "execution_count": 61,
   "id": "c4290972",
   "metadata": {},
   "outputs": [
    {
     "name": "stdout",
     "output_type": "stream",
     "text": [
      "['i', 'me', 'my', 'myself', 'we', 'our', 'ours', 'ourselves', 'you', \"you're\", \"you've\", \"you'll\", \"you'd\", 'your', 'yours', 'yourself', 'yourselves', 'he', 'him', 'his', 'himself', 'she', \"she's\", 'her', 'hers', 'herself', 'it', \"it's\", 'its', 'itself', 'they', 'them', 'their', 'theirs', 'themselves', 'what', 'which', 'who', 'whom', 'this', 'that', \"that'll\", 'these', 'those', 'am', 'is', 'are', 'was', 'were', 'be', 'been', 'being', 'have', 'has', 'had', 'having', 'do', 'does', 'did', 'doing', 'a', 'an', 'the', 'and', 'but', 'if', 'or', 'because', 'as', 'until', 'while', 'of', 'at', 'by', 'for', 'with', 'about', 'against', 'between', 'into', 'through', 'during', 'before', 'after', 'above', 'below', 'to', 'from', 'up', 'down', 'in', 'out', 'on', 'off', 'over', 'under', 'again', 'further', 'then', 'once', 'here', 'there', 'when', 'where', 'why', 'how', 'all', 'any', 'both', 'each', 'few', 'more', 'most', 'other', 'some', 'such', 'no', 'nor', 'not', 'only', 'own', 'same', 'so', 'than', 'too', 'very', 's', 't', 'can', 'will', 'just', 'don', \"don't\", 'should', \"should've\", 'now', 'd', 'll', 'm', 'o', 're', 've', 'y', 'ain', 'aren', \"aren't\", 'couldn', \"couldn't\", 'didn', \"didn't\", 'doesn', \"doesn't\", 'hadn', \"hadn't\", 'hasn', \"hasn't\", 'haven', \"haven't\", 'isn', \"isn't\", 'ma', 'mightn', \"mightn't\", 'mustn', \"mustn't\", 'needn', \"needn't\", 'shan', \"shan't\", 'shouldn', \"shouldn't\", 'wasn', \"wasn't\", 'weren', \"weren't\", 'won', \"won't\", 'wouldn', \"wouldn't\", 'http', 'filler']\n",
      "<class 'list'>\n",
      "181\n",
      "181\n"
     ]
    }
   ],
   "source": [
    "stopwords = nltk.corpus.stopwords.words('english')\n",
    "stopwords.append('http')\n",
    "stopwords.append('filler')\n",
    "print(stopwords)\n",
    "print(type(stopwords))\n",
    "print(len(stopwords))\n",
    "print(len(set(stopwords)))"
   ]
  },
  {
   "cell_type": "code",
   "execution_count": 62,
   "id": "46f185cf",
   "metadata": {},
   "outputs": [],
   "source": [
    "def remove_stopwords(tokenized_column):\n",
    "    \"\"\"Return a list of tokens with English stopwords removed. \n",
    "\n",
    "    Args:\n",
    "        column: Pandas dataframe column of tokenized data from tokenize()\n",
    "\n",
    "    Returns:\n",
    "        tokens (list): Tokenized list with stopwords removed.\n",
    "\n",
    "    \"\"\"\n",
    "\n",
    "\n",
    "    stops = set(nltk.corpus.stopwords.words(\"english\"))\n",
    "    return [word for word in tokenized_column if not word in stops]"
   ]
  },
  {
   "cell_type": "code",
   "execution_count": 19,
   "id": "2da18176",
   "metadata": {},
   "outputs": [],
   "source": [
    "#nltk.download('stopwords')\n",
    "#from nltk.corpus import stopwords\n",
    "#stop_words = stopwords.words('english')\n",
    "#print(stop_words)"
   ]
  },
  {
   "cell_type": "code",
   "execution_count": 63,
   "id": "e8a75590",
   "metadata": {},
   "outputs": [
    {
     "data": {
      "text/html": [
       "<div>\n",
       "<style scoped>\n",
       "    .dataframe tbody tr th:only-of-type {\n",
       "        vertical-align: middle;\n",
       "    }\n",
       "\n",
       "    .dataframe tbody tr th {\n",
       "        vertical-align: top;\n",
       "    }\n",
       "\n",
       "    .dataframe thead th {\n",
       "        text-align: right;\n",
       "    }\n",
       "</style>\n",
       "<table border=\"1\" class=\"dataframe\">\n",
       "  <thead>\n",
       "    <tr style=\"text-align: right;\">\n",
       "      <th></th>\n",
       "      <th>selftext</th>\n",
       "      <th>nopunctwords</th>\n",
       "      <th>tokenized</th>\n",
       "      <th>stopwords_removed</th>\n",
       "    </tr>\n",
       "  </thead>\n",
       "  <tbody>\n",
       "    <tr>\n",
       "      <th>0</th>\n",
       "      <td>i've used this app called 'relax melodies' for...</td>\n",
       "      <td>['i', 've', 'used', 'this', 'app', 'called', '...</td>\n",
       "      <td>[i, used, this, app, called, melodies, for, ov...</td>\n",
       "      <td>[used, app, called, melodies, two, years, app,...</td>\n",
       "    </tr>\n",
       "    <tr>\n",
       "      <th>1</th>\n",
       "      <td>i felt reasonably tired at my bed time. i got ...</td>\n",
       "      <td>['i', 'felt', 'reasonably', 'tired', 'at', 'my...</td>\n",
       "      <td>[i, felt, reasonably, tired, at, my, bed, time...</td>\n",
       "      <td>[felt, reasonably, tired, bed, time, got, bed,...</td>\n",
       "    </tr>\n",
       "    <tr>\n",
       "      <th>2</th>\n",
       "      <td>and to hear how they slept poorly the next day...</td>\n",
       "      <td>['and', 'to', 'hear', 'how', 'they', 'slept', ...</td>\n",
       "      <td>[and, to, hear, how, they, slept, poorly, the,...</td>\n",
       "      <td>[hear, slept, poorly, next, day, luxury]</td>\n",
       "    </tr>\n",
       "    <tr>\n",
       "      <th>3</th>\n",
       "      <td>whenever it is warm outside, there is a bird t...</td>\n",
       "      <td>['whenever', 'it', 'is', 'warm', 'outside', 't...</td>\n",
       "      <td>[whenever, it, is, warm, outside, there, is, a...</td>\n",
       "      <td>[whenever, warm, outside, bird, chirps, outsid...</td>\n",
       "    </tr>\n",
       "    <tr>\n",
       "      <th>4</th>\n",
       "      <td>i was on 20-25mg mirtazapine (remeron) over th...</td>\n",
       "      <td>['i', 'was', 'on', 'mg', 'mirtazapine', 'remer...</td>\n",
       "      <td>[i, was, on, mirtazapine, remeron, over, the, ...</td>\n",
       "      <td>[mirtazapine, remeron, past, years, months, ag...</td>\n",
       "    </tr>\n",
       "  </tbody>\n",
       "</table>\n",
       "</div>"
      ],
      "text/plain": [
       "                                            selftext  \\\n",
       "0  i've used this app called 'relax melodies' for...   \n",
       "1  i felt reasonably tired at my bed time. i got ...   \n",
       "2  and to hear how they slept poorly the next day...   \n",
       "3  whenever it is warm outside, there is a bird t...   \n",
       "4  i was on 20-25mg mirtazapine (remeron) over th...   \n",
       "\n",
       "                                        nopunctwords  \\\n",
       "0  ['i', 've', 'used', 'this', 'app', 'called', '...   \n",
       "1  ['i', 'felt', 'reasonably', 'tired', 'at', 'my...   \n",
       "2  ['and', 'to', 'hear', 'how', 'they', 'slept', ...   \n",
       "3  ['whenever', 'it', 'is', 'warm', 'outside', 't...   \n",
       "4  ['i', 'was', 'on', 'mg', 'mirtazapine', 'remer...   \n",
       "\n",
       "                                           tokenized  \\\n",
       "0  [i, used, this, app, called, melodies, for, ov...   \n",
       "1  [i, felt, reasonably, tired, at, my, bed, time...   \n",
       "2  [and, to, hear, how, they, slept, poorly, the,...   \n",
       "3  [whenever, it, is, warm, outside, there, is, a...   \n",
       "4  [i, was, on, mirtazapine, remeron, over, the, ...   \n",
       "\n",
       "                                   stopwords_removed  \n",
       "0  [used, app, called, melodies, two, years, app,...  \n",
       "1  [felt, reasonably, tired, bed, time, got, bed,...  \n",
       "2           [hear, slept, poorly, next, day, luxury]  \n",
       "3  [whenever, warm, outside, bird, chirps, outsid...  \n",
       "4  [mirtazapine, remeron, past, years, months, ag...  "
      ]
     },
     "execution_count": 63,
     "metadata": {},
     "output_type": "execute_result"
    }
   ],
   "source": [
    "combi1['stopwords_removed'] = combi1.apply(lambda x: remove_stopwords(x['tokenized']), axis=1)\n",
    "combi1[['selftext', 'nopunctwords', 'tokenized', 'stopwords_removed']].head()"
   ]
  },
  {
   "cell_type": "code",
   "execution_count": 73,
   "id": "d4487adb",
   "metadata": {},
   "outputs": [
    {
     "data": {
      "text/html": [
       "<div>\n",
       "<style scoped>\n",
       "    .dataframe tbody tr th:only-of-type {\n",
       "        vertical-align: middle;\n",
       "    }\n",
       "\n",
       "    .dataframe tbody tr th {\n",
       "        vertical-align: top;\n",
       "    }\n",
       "\n",
       "    .dataframe thead th {\n",
       "        text-align: right;\n",
       "    }\n",
       "</style>\n",
       "<table border=\"1\" class=\"dataframe\">\n",
       "  <thead>\n",
       "    <tr style=\"text-align: right;\">\n",
       "      <th></th>\n",
       "      <th>score</th>\n",
       "      <th>created_utc</th>\n",
       "      <th>title</th>\n",
       "      <th>selftext</th>\n",
       "      <th>covid</th>\n",
       "      <th>punctremoved</th>\n",
       "      <th>nopunctwords</th>\n",
       "      <th>tokenized</th>\n",
       "      <th>tokenized2</th>\n",
       "      <th>stopwords_removed</th>\n",
       "    </tr>\n",
       "  </thead>\n",
       "  <tbody>\n",
       "    <tr>\n",
       "      <th>443</th>\n",
       "      <td>7</td>\n",
       "      <td>2017-06-27</td>\n",
       "      <td>i can't sleep</td>\n",
       "      <td>now what?</td>\n",
       "      <td>0</td>\n",
       "      <td>now what</td>\n",
       "      <td>['now', 'what']</td>\n",
       "      <td>[now, what]</td>\n",
       "      <td>[now, what]</td>\n",
       "      <td>[]</td>\n",
       "    </tr>\n",
       "    <tr>\n",
       "      <th>1420</th>\n",
       "      <td>4</td>\n",
       "      <td>2018-01-01</td>\n",
       "      <td>woke up at 2pm, have to work at 4 am</td>\n",
       "      <td>what do i do?</td>\n",
       "      <td>0</td>\n",
       "      <td>what do i do</td>\n",
       "      <td>['what', 'do', 'i', 'do']</td>\n",
       "      <td>[what, do, i, do]</td>\n",
       "      <td>[what, do, i, do]</td>\n",
       "      <td>[]</td>\n",
       "    </tr>\n",
       "    <tr>\n",
       "      <th>1974</th>\n",
       "      <td>2</td>\n",
       "      <td>2018-03-22</td>\n",
       "      <td>fart</td>\n",
       "      <td>💨</td>\n",
       "      <td>0</td>\n",
       "      <td></td>\n",
       "      <td>[]</td>\n",
       "      <td>[]</td>\n",
       "      <td>[]</td>\n",
       "      <td>[]</td>\n",
       "    </tr>\n",
       "    <tr>\n",
       "      <th>3256</th>\n",
       "      <td>8</td>\n",
       "      <td>2018-08-29</td>\n",
       "      <td>someone please kill me.</td>\n",
       "      <td>that's all.</td>\n",
       "      <td>0</td>\n",
       "      <td>that s all</td>\n",
       "      <td>['that', 's', 'all']</td>\n",
       "      <td>[that, all]</td>\n",
       "      <td>[that, s, all]</td>\n",
       "      <td>[]</td>\n",
       "    </tr>\n",
       "    <tr>\n",
       "      <th>3759</th>\n",
       "      <td>4</td>\n",
       "      <td>2018-10-18</td>\n",
       "      <td>i have few whiskey shots and 100mg of dogmatil...</td>\n",
       "      <td>had</td>\n",
       "      <td>0</td>\n",
       "      <td>had</td>\n",
       "      <td>['had']</td>\n",
       "      <td>[had]</td>\n",
       "      <td>[had]</td>\n",
       "      <td>[]</td>\n",
       "    </tr>\n",
       "    <tr>\n",
       "      <th>4226</th>\n",
       "      <td>9</td>\n",
       "      <td>2018-12-05</td>\n",
       "      <td>can being sleep deprived cause body aches and ...</td>\n",
       "      <td>?</td>\n",
       "      <td>0</td>\n",
       "      <td></td>\n",
       "      <td>[]</td>\n",
       "      <td>[]</td>\n",
       "      <td>[]</td>\n",
       "      <td>[]</td>\n",
       "    </tr>\n",
       "    <tr>\n",
       "      <th>4691</th>\n",
       "      <td>5</td>\n",
       "      <td>2019-01-15</td>\n",
       "      <td>no sleep tonight</td>\n",
       "      <td>.</td>\n",
       "      <td>0</td>\n",
       "      <td></td>\n",
       "      <td>[]</td>\n",
       "      <td>[]</td>\n",
       "      <td>[]</td>\n",
       "      <td>[]</td>\n",
       "    </tr>\n",
       "    <tr>\n",
       "      <th>6396</th>\n",
       "      <td>2</td>\n",
       "      <td>2019-05-27</td>\n",
       "      <td>you are not alone</td>\n",
       "      <td>/r/insomnia/comments/btkjjy/you_are_not_alone/</td>\n",
       "      <td>0</td>\n",
       "      <td>r insomnia comments btkjjy you are not alone</td>\n",
       "      <td>['r', 'insomnia', 'comments', 'btkjjy', 'you',...</td>\n",
       "      <td>[]</td>\n",
       "      <td>[r, insomnia, comments, btkjjy, you, are, not,...</td>\n",
       "      <td>[]</td>\n",
       "    </tr>\n",
       "    <tr>\n",
       "      <th>6402</th>\n",
       "      <td>2</td>\n",
       "      <td>2019-05-27</td>\n",
       "      <td>i can only sleep if i take 1 mg of xanax and 2...</td>\n",
       "      <td>/r/insomnia/comments/btpuoa/i_can_only_sleep_i...</td>\n",
       "      <td>0</td>\n",
       "      <td>r insomnia comments btpuoa i can only sleep i...</td>\n",
       "      <td>['r', 'insomnia', 'comments', 'btpuoa', 'i', '...</td>\n",
       "      <td>[]</td>\n",
       "      <td>[r, insomnia, comments, btpuoa, i, can, only, ...</td>\n",
       "      <td>[]</td>\n",
       "    </tr>\n",
       "    <tr>\n",
       "      <th>6403</th>\n",
       "      <td>1</td>\n",
       "      <td>2019-05-27</td>\n",
       "      <td>sooo i can finally fall asleep pretty fast but...</td>\n",
       "      <td>/r/insomnia/comments/btqv72/sooo_i_can_finally...</td>\n",
       "      <td>0</td>\n",
       "      <td>r insomnia comments btqv   sooo i can finally...</td>\n",
       "      <td>['r', 'insomnia', 'comments', 'btqv', 'sooo', ...</td>\n",
       "      <td>[]</td>\n",
       "      <td>[r, insomnia, comments, btqv, sooo, i, can, fi...</td>\n",
       "      <td>[]</td>\n",
       "    </tr>\n",
       "    <tr>\n",
       "      <th>6855</th>\n",
       "      <td>1</td>\n",
       "      <td>2019-06-30</td>\n",
       "      <td>check in! 3:45 am kansas city, mo</td>\n",
       "      <td>where are you at?</td>\n",
       "      <td>0</td>\n",
       "      <td>where are you at</td>\n",
       "      <td>['where', 'are', 'you', 'at']</td>\n",
       "      <td>[where, are, you, at]</td>\n",
       "      <td>[where, are, you, at]</td>\n",
       "      <td>[]</td>\n",
       "    </tr>\n",
       "    <tr>\n",
       "      <th>7491</th>\n",
       "      <td>3</td>\n",
       "      <td>2019-08-10</td>\n",
       "      <td>“i’m a total insomniac i was up till 2 last ni...</td>\n",
       "      <td>🙄🙄🙄🙄 how about no.</td>\n",
       "      <td>0</td>\n",
       "      <td>how about no</td>\n",
       "      <td>['how', 'about', 'no']</td>\n",
       "      <td>[how, about, no]</td>\n",
       "      <td>[how, about, no]</td>\n",
       "      <td>[]</td>\n",
       "    </tr>\n",
       "    <tr>\n",
       "      <th>11051</th>\n",
       "      <td>68</td>\n",
       "      <td>2020-03-01</td>\n",
       "      <td>i’ve had 4 hours of sleep in the last 2 days</td>\n",
       "      <td>:(</td>\n",
       "      <td>1</td>\n",
       "      <td></td>\n",
       "      <td>[]</td>\n",
       "      <td>[]</td>\n",
       "      <td>[]</td>\n",
       "      <td>[]</td>\n",
       "    </tr>\n",
       "  </tbody>\n",
       "</table>\n",
       "</div>"
      ],
      "text/plain": [
       "       score created_utc                                              title  \\\n",
       "443        7  2017-06-27                                      i can't sleep   \n",
       "1420       4  2018-01-01               woke up at 2pm, have to work at 4 am   \n",
       "1974       2  2018-03-22                                               fart   \n",
       "3256       8  2018-08-29                            someone please kill me.   \n",
       "3759       4  2018-10-18  i have few whiskey shots and 100mg of dogmatil...   \n",
       "4226       9  2018-12-05  can being sleep deprived cause body aches and ...   \n",
       "4691       5  2019-01-15                                   no sleep tonight   \n",
       "6396       2  2019-05-27                                  you are not alone   \n",
       "6402       2  2019-05-27  i can only sleep if i take 1 mg of xanax and 2...   \n",
       "6403       1  2019-05-27  sooo i can finally fall asleep pretty fast but...   \n",
       "6855       1  2019-06-30                  check in! 3:45 am kansas city, mo   \n",
       "7491       3  2019-08-10  “i’m a total insomniac i was up till 2 last ni...   \n",
       "11051     68  2020-03-01       i’ve had 4 hours of sleep in the last 2 days   \n",
       "\n",
       "                                                selftext  covid  \\\n",
       "443                                            now what?      0   \n",
       "1420                                       what do i do?      0   \n",
       "1974                                                   💨      0   \n",
       "3256                                         that's all.      0   \n",
       "3759                                                 had      0   \n",
       "4226                                                   ?      0   \n",
       "4691                                                   .      0   \n",
       "6396      /r/insomnia/comments/btkjjy/you_are_not_alone/      0   \n",
       "6402   /r/insomnia/comments/btpuoa/i_can_only_sleep_i...      0   \n",
       "6403   /r/insomnia/comments/btqv72/sooo_i_can_finally...      0   \n",
       "6855                                   where are you at?      0   \n",
       "7491                                  🙄🙄🙄🙄 how about no.      0   \n",
       "11051                                                 :(      1   \n",
       "\n",
       "                                            punctremoved  \\\n",
       "443                                            now what    \n",
       "1420                                       what do i do    \n",
       "1974                                                       \n",
       "3256                                         that s all    \n",
       "3759                                                 had   \n",
       "4226                                                       \n",
       "4691                                                       \n",
       "6396       r insomnia comments btkjjy you are not alone    \n",
       "6402    r insomnia comments btpuoa i can only sleep i...   \n",
       "6403    r insomnia comments btqv   sooo i can finally...   \n",
       "6855                                   where are you at    \n",
       "7491                                       how about no    \n",
       "11051                                                      \n",
       "\n",
       "                                            nopunctwords  \\\n",
       "443                                      ['now', 'what']   \n",
       "1420                           ['what', 'do', 'i', 'do']   \n",
       "1974                                                  []   \n",
       "3256                                ['that', 's', 'all']   \n",
       "3759                                             ['had']   \n",
       "4226                                                  []   \n",
       "4691                                                  []   \n",
       "6396   ['r', 'insomnia', 'comments', 'btkjjy', 'you',...   \n",
       "6402   ['r', 'insomnia', 'comments', 'btpuoa', 'i', '...   \n",
       "6403   ['r', 'insomnia', 'comments', 'btqv', 'sooo', ...   \n",
       "6855                       ['where', 'are', 'you', 'at']   \n",
       "7491                              ['how', 'about', 'no']   \n",
       "11051                                                 []   \n",
       "\n",
       "                   tokenized  \\\n",
       "443              [now, what]   \n",
       "1420       [what, do, i, do]   \n",
       "1974                      []   \n",
       "3256             [that, all]   \n",
       "3759                   [had]   \n",
       "4226                      []   \n",
       "4691                      []   \n",
       "6396                      []   \n",
       "6402                      []   \n",
       "6403                      []   \n",
       "6855   [where, are, you, at]   \n",
       "7491        [how, about, no]   \n",
       "11051                     []   \n",
       "\n",
       "                                              tokenized2 stopwords_removed  \n",
       "443                                          [now, what]                []  \n",
       "1420                                   [what, do, i, do]                []  \n",
       "1974                                                  []                []  \n",
       "3256                                      [that, s, all]                []  \n",
       "3759                                               [had]                []  \n",
       "4226                                                  []                []  \n",
       "4691                                                  []                []  \n",
       "6396   [r, insomnia, comments, btkjjy, you, are, not,...                []  \n",
       "6402   [r, insomnia, comments, btpuoa, i, can, only, ...                []  \n",
       "6403   [r, insomnia, comments, btqv, sooo, i, can, fi...                []  \n",
       "6855                               [where, are, you, at]                []  \n",
       "7491                                    [how, about, no]                []  \n",
       "11051                                                 []                []  "
      ]
     },
     "execution_count": 73,
     "metadata": {},
     "output_type": "execute_result"
    }
   ],
   "source": [
    "(combi1[combi1['stopwords_removed'].map(lambda d: len(d)) == 0])"
   ]
  },
  {
   "cell_type": "code",
   "execution_count": 72,
   "id": "03dd0961",
   "metadata": {},
   "outputs": [
    {
     "data": {
      "text/plain": [
       "\"Int64Index([443, 1420, 1974, 3256, 3759, 4226, 4691, 6396, 6402, 6403, 6855,\\n            7491, 11051],\\n           dtype='int64')\""
      ]
     },
     "execution_count": 72,
     "metadata": {},
     "output_type": "execute_result"
    }
   ],
   "source": [
    "'''Int64Index([443, 1420, 1974, 3256, 3759, 4226, 4691, 6396, 6402, 6403, 6855,\n",
    "            7491, 11051],\n",
    "           dtype='int64')'''"
   ]
  },
  {
   "cell_type": "code",
   "execution_count": 74,
   "id": "87e2a71b",
   "metadata": {},
   "outputs": [
    {
     "data": {
      "text/plain": [
       "Int64Index([443, 1420, 1974, 3256, 3759, 4226, 4691, 6396, 6402, 6403, 6855,\n",
       "            7491, 11051],\n",
       "           dtype='int64')"
      ]
     },
     "execution_count": 74,
     "metadata": {},
     "output_type": "execute_result"
    }
   ],
   "source": [
    "delet = (combi1[combi1['stopwords_removed'].map(lambda d: len(d)) == 0]).index\n",
    "delet"
   ]
  },
  {
   "cell_type": "code",
   "execution_count": 76,
   "id": "6b5af326",
   "metadata": {},
   "outputs": [
    {
     "data": {
      "text/plain": [
       "(18399, 10)"
      ]
     },
     "execution_count": 76,
     "metadata": {},
     "output_type": "execute_result"
    }
   ],
   "source": [
    "#combi1 = (combi1).drop(delet, axis = 0)\n",
    "combi1.shape  #(18399, 10)"
   ]
  },
  {
   "cell_type": "code",
   "execution_count": 77,
   "id": "c56da358",
   "metadata": {},
   "outputs": [
    {
     "name": "stdout",
     "output_type": "stream",
     "text": [
      "i don't know if anyone else is like this, but no matter what i do throughout our the day or how tired i am, i can't fall asleep until about 1:30-2 am. it's just the way my internal clock is i guess. does anyone else have this problem?\n",
      "\n",
      "['know', 'anyone', 'else', 'like', 'matter', 'throughout', 'day', 'tired', 'ca', 'fall', 'asleep', 'way', 'internal', 'clock', 'guess', 'anyone', 'else', 'problem']\n"
     ]
    }
   ],
   "source": [
    "print(combi1.selftext[6])\n",
    "print()\n",
    "print(combi1.stopwords_removed[6])"
   ]
  },
  {
   "cell_type": "code",
   "execution_count": 78,
   "id": "7078f0fd",
   "metadata": {},
   "outputs": [],
   "source": [
    "#Stemming \n",
    "\n",
    "def apply_stemming(tokenized_column):\n",
    "    \"\"\"Return a list of tokens with Porter stemming applied.\n",
    "\n",
    "    Args:\n",
    "        column: Pandas dataframe column of tokenized data with stopwords removed.\n",
    "\n",
    "    Returns:\n",
    "        tokens (list): Tokenized list with words Porter stemmed.\n",
    "\n",
    "    \"\"\"\n",
    "\n",
    "    stemmer = PorterStemmer() \n",
    "    return [stemmer.stem(word) for word in tokenized_column]"
   ]
  },
  {
   "cell_type": "code",
   "execution_count": 79,
   "id": "cb26407e",
   "metadata": {},
   "outputs": [],
   "source": [
    "#Lemmatization \n",
    "\n",
    "def apply_lemmatize(tokenized_column):\n",
    "    \"\"\"Return a list of tokens with lemmatization applied.\n",
    "\n",
    "    Args:\n",
    "        column: Pandas dataframe column of tokenized data with stopwords removed.\n",
    "\n",
    "    Returns:\n",
    "        tokens (list): Tokenized list with words lemmatized.\n",
    "\n",
    "    \"\"\"\n",
    "\n",
    "    lemmatizer = WordNetLemmatizer()\n",
    "    return [lemmatizer.lemmatize(word) for word in tokenized_column]"
   ]
  },
  {
   "cell_type": "code",
   "execution_count": 80,
   "id": "df62a897",
   "metadata": {},
   "outputs": [
    {
     "data": {
      "text/html": [
       "<div>\n",
       "<style scoped>\n",
       "    .dataframe tbody tr th:only-of-type {\n",
       "        vertical-align: middle;\n",
       "    }\n",
       "\n",
       "    .dataframe tbody tr th {\n",
       "        vertical-align: top;\n",
       "    }\n",
       "\n",
       "    .dataframe thead th {\n",
       "        text-align: right;\n",
       "    }\n",
       "</style>\n",
       "<table border=\"1\" class=\"dataframe\">\n",
       "  <thead>\n",
       "    <tr style=\"text-align: right;\">\n",
       "      <th></th>\n",
       "      <th>stopwords_removed</th>\n",
       "      <th>porter_stemmed</th>\n",
       "      <th>lemmatized</th>\n",
       "    </tr>\n",
       "  </thead>\n",
       "  <tbody>\n",
       "    <tr>\n",
       "      <th>0</th>\n",
       "      <td>[used, app, called, melodies, two, years, app,...</td>\n",
       "      <td>[use, app, call, melodi, two, year, app, inclu...</td>\n",
       "      <td>[used, app, called, melody, two, year, app, in...</td>\n",
       "    </tr>\n",
       "    <tr>\n",
       "      <th>1</th>\n",
       "      <td>[felt, reasonably, tired, bed, time, got, bed,...</td>\n",
       "      <td>[felt, reason, tire, bed, time, got, bed, clos...</td>\n",
       "      <td>[felt, reasonably, tired, bed, time, got, bed,...</td>\n",
       "    </tr>\n",
       "    <tr>\n",
       "      <th>2</th>\n",
       "      <td>[hear, slept, poorly, next, day, luxury]</td>\n",
       "      <td>[hear, slept, poorli, next, day, luxuri]</td>\n",
       "      <td>[hear, slept, poorly, next, day, luxury]</td>\n",
       "    </tr>\n",
       "    <tr>\n",
       "      <th>3</th>\n",
       "      <td>[whenever, warm, outside, bird, chirps, outsid...</td>\n",
       "      <td>[whenev, warm, outsid, bird, chirp, outsid, wi...</td>\n",
       "      <td>[whenever, warm, outside, bird, chirp, outside...</td>\n",
       "    </tr>\n",
       "    <tr>\n",
       "      <th>4</th>\n",
       "      <td>[mirtazapine, remeron, past, years, months, ag...</td>\n",
       "      <td>[mirtazapin, remeron, past, year, month, ago, ...</td>\n",
       "      <td>[mirtazapine, remeron, past, year, month, ago,...</td>\n",
       "    </tr>\n",
       "  </tbody>\n",
       "</table>\n",
       "</div>"
      ],
      "text/plain": [
       "                                   stopwords_removed  \\\n",
       "0  [used, app, called, melodies, two, years, app,...   \n",
       "1  [felt, reasonably, tired, bed, time, got, bed,...   \n",
       "2           [hear, slept, poorly, next, day, luxury]   \n",
       "3  [whenever, warm, outside, bird, chirps, outsid...   \n",
       "4  [mirtazapine, remeron, past, years, months, ag...   \n",
       "\n",
       "                                      porter_stemmed  \\\n",
       "0  [use, app, call, melodi, two, year, app, inclu...   \n",
       "1  [felt, reason, tire, bed, time, got, bed, clos...   \n",
       "2           [hear, slept, poorli, next, day, luxuri]   \n",
       "3  [whenev, warm, outsid, bird, chirp, outsid, wi...   \n",
       "4  [mirtazapin, remeron, past, year, month, ago, ...   \n",
       "\n",
       "                                          lemmatized  \n",
       "0  [used, app, called, melody, two, year, app, in...  \n",
       "1  [felt, reasonably, tired, bed, time, got, bed,...  \n",
       "2           [hear, slept, poorly, next, day, luxury]  \n",
       "3  [whenever, warm, outside, bird, chirp, outside...  \n",
       "4  [mirtazapine, remeron, past, year, month, ago,...  "
      ]
     },
     "execution_count": 80,
     "metadata": {},
     "output_type": "execute_result"
    }
   ],
   "source": [
    "import pandas as pd\n",
    "import nltk\n",
    "from nltk.corpus import stopwords\n",
    "from nltk.stem.porter import PorterStemmer \n",
    "from nltk.stem import WordNetLemmatizer\n",
    "\n",
    "\n",
    "combi1['porter_stemmed'] = combi1.apply(lambda x: apply_stemming(x['stopwords_removed']), axis=1)\n",
    "combi1['lemmatized'] = combi1.apply(lambda x: apply_lemmatize(x['stopwords_removed']), axis=1)\n",
    "\n",
    "combi1[['stopwords_removed', 'porter_stemmed', 'lemmatized']].head()"
   ]
  },
  {
   "cell_type": "code",
   "execution_count": 81,
   "id": "aaf9d5b2",
   "metadata": {},
   "outputs": [
    {
     "data": {
      "text/plain": [
       "score                0\n",
       "created_utc          0\n",
       "title                0\n",
       "selftext             0\n",
       "covid                0\n",
       "punctremoved         0\n",
       "nopunctwords         0\n",
       "tokenized            0\n",
       "tokenized2           0\n",
       "stopwords_removed    0\n",
       "porter_stemmed       0\n",
       "lemmatized           0\n",
       "dtype: int64"
      ]
     },
     "execution_count": 81,
     "metadata": {},
     "output_type": "execute_result"
    }
   ],
   "source": [
    "combi1.isna().sum()"
   ]
  },
  {
   "cell_type": "code",
   "execution_count": 82,
   "id": "4b015479",
   "metadata": {},
   "outputs": [],
   "source": [
    "def rejoin_words(tokenized_column):\n",
    "    \"\"\"Rejoins a tokenized word list into a single string. \n",
    "    \n",
    "    Args:\n",
    "        tokenized_column (list): Tokenized column of words. \n",
    "        \n",
    "    Returns:\n",
    "        string: Single string of untokenized words. \n",
    "    \"\"\"\n",
    "    \n",
    "    return ( \" \".join(tokenized_column))"
   ]
  },
  {
   "cell_type": "code",
   "execution_count": 83,
   "id": "de76c6a7",
   "metadata": {},
   "outputs": [
    {
     "data": {
      "text/html": [
       "<div>\n",
       "<style scoped>\n",
       "    .dataframe tbody tr th:only-of-type {\n",
       "        vertical-align: middle;\n",
       "    }\n",
       "\n",
       "    .dataframe tbody tr th {\n",
       "        vertical-align: top;\n",
       "    }\n",
       "\n",
       "    .dataframe thead th {\n",
       "        text-align: right;\n",
       "    }\n",
       "</style>\n",
       "<table border=\"1\" class=\"dataframe\">\n",
       "  <thead>\n",
       "    <tr style=\"text-align: right;\">\n",
       "      <th></th>\n",
       "      <th>porter_stemmed</th>\n",
       "      <th>stemrejoined</th>\n",
       "      <th>lemmarejoined</th>\n",
       "    </tr>\n",
       "  </thead>\n",
       "  <tbody>\n",
       "    <tr>\n",
       "      <th>0</th>\n",
       "      <td>[use, app, call, melodi, two, year, app, inclu...</td>\n",
       "      <td>use app call melodi two year app includ bunch ...</td>\n",
       "      <td>used app called melody two year app includes b...</td>\n",
       "    </tr>\n",
       "    <tr>\n",
       "      <th>1</th>\n",
       "      <td>[felt, reason, tire, bed, time, got, bed, clos...</td>\n",
       "      <td>felt reason tire bed time got bed close eye tr...</td>\n",
       "      <td>felt reasonably tired bed time got bed closed ...</td>\n",
       "    </tr>\n",
       "    <tr>\n",
       "      <th>2</th>\n",
       "      <td>[hear, slept, poorli, next, day, luxuri]</td>\n",
       "      <td>hear slept poorli next day luxuri</td>\n",
       "      <td>hear slept poorly next day luxury</td>\n",
       "    </tr>\n",
       "    <tr>\n",
       "      <th>3</th>\n",
       "      <td>[whenev, warm, outsid, bird, chirp, outsid, wi...</td>\n",
       "      <td>whenev warm outsid bird chirp outsid window ea...</td>\n",
       "      <td>whenever warm outside bird chirp outside windo...</td>\n",
       "    </tr>\n",
       "    <tr>\n",
       "      <th>4</th>\n",
       "      <td>[mirtazapin, remeron, past, year, month, ago, ...</td>\n",
       "      <td>mirtazapin remeron past year month ago began a...</td>\n",
       "      <td>mirtazapine remeron past year month ago began ...</td>\n",
       "    </tr>\n",
       "  </tbody>\n",
       "</table>\n",
       "</div>"
      ],
      "text/plain": [
       "                                      porter_stemmed  \\\n",
       "0  [use, app, call, melodi, two, year, app, inclu...   \n",
       "1  [felt, reason, tire, bed, time, got, bed, clos...   \n",
       "2           [hear, slept, poorli, next, day, luxuri]   \n",
       "3  [whenev, warm, outsid, bird, chirp, outsid, wi...   \n",
       "4  [mirtazapin, remeron, past, year, month, ago, ...   \n",
       "\n",
       "                                        stemrejoined  \\\n",
       "0  use app call melodi two year app includ bunch ...   \n",
       "1  felt reason tire bed time got bed close eye tr...   \n",
       "2                  hear slept poorli next day luxuri   \n",
       "3  whenev warm outsid bird chirp outsid window ea...   \n",
       "4  mirtazapin remeron past year month ago began a...   \n",
       "\n",
       "                                       lemmarejoined  \n",
       "0  used app called melody two year app includes b...  \n",
       "1  felt reasonably tired bed time got bed closed ...  \n",
       "2                  hear slept poorly next day luxury  \n",
       "3  whenever warm outside bird chirp outside windo...  \n",
       "4  mirtazapine remeron past year month ago began ...  "
      ]
     },
     "execution_count": 83,
     "metadata": {},
     "output_type": "execute_result"
    }
   ],
   "source": [
    "combi1['stemrejoined'] = combi1.apply(lambda x: rejoin_words(x['porter_stemmed']), axis=1)\n",
    "combi1['lemmarejoined'] = combi1.apply(lambda x: rejoin_words(x['lemmatized']), axis=1)\n",
    "\n",
    "combi1[['porter_stemmed', 'stemrejoined', 'lemmarejoined']].head()"
   ]
  },
  {
   "cell_type": "code",
   "execution_count": 85,
   "id": "48df573e",
   "metadata": {},
   "outputs": [],
   "source": [
    "combi1['1gram'] = combi1.apply(lambda x: ngrams((x['lemmarejoined']),1 ), axis=1)"
   ]
  },
  {
   "cell_type": "code",
   "execution_count": 86,
   "id": "ca4361c3",
   "metadata": {},
   "outputs": [],
   "source": [
    "combi1['2gram'] = combi1.apply(lambda x: ngrams((x['lemmarejoined']),2), axis=1)"
   ]
  },
  {
   "cell_type": "code",
   "execution_count": 87,
   "id": "6b45bbac",
   "metadata": {},
   "outputs": [],
   "source": [
    "combi1['3gram'] = combi1.apply(lambda x: ngrams((x['lemmarejoined']),3), axis=1)"
   ]
  },
  {
   "cell_type": "code",
   "execution_count": 88,
   "id": "7b91d5d0",
   "metadata": {},
   "outputs": [],
   "source": [
    "combi1['4gram'] = combi1.apply(lambda x: ngrams((x['lemmarejoined']),4), axis=1)"
   ]
  },
  {
   "cell_type": "code",
   "execution_count": 89,
   "id": "c0b32d7d",
   "metadata": {},
   "outputs": [
    {
     "data": {
      "text/plain": [
       "score                0\n",
       "created_utc          0\n",
       "title                0\n",
       "selftext             0\n",
       "covid                0\n",
       "punctremoved         0\n",
       "nopunctwords         0\n",
       "tokenized            0\n",
       "tokenized2           0\n",
       "stopwords_removed    0\n",
       "porter_stemmed       0\n",
       "lemmatized           0\n",
       "stemrejoined         0\n",
       "lemmarejoined        0\n",
       "1gram                0\n",
       "2gram                0\n",
       "3gram                0\n",
       "4gram                0\n",
       "dtype: int64"
      ]
     },
     "execution_count": 89,
     "metadata": {},
     "output_type": "execute_result"
    }
   ],
   "source": [
    "combi1.isna().sum()"
   ]
  },
  {
   "cell_type": "code",
   "execution_count": 91,
   "id": "3e60cdfa",
   "metadata": {},
   "outputs": [
    {
     "data": {
      "text/plain": [
       "(18399, 18)"
      ]
     },
     "execution_count": 91,
     "metadata": {},
     "output_type": "execute_result"
    }
   ],
   "source": [
    "combi1.shape"
   ]
  },
  {
   "cell_type": "code",
   "execution_count": 92,
   "id": "3010e145",
   "metadata": {},
   "outputs": [],
   "source": [
    "'''from pathlib import Path  \n",
    "filepath = Path('/Users/selinzobu/Desktop/1SCRAPE DATA/XLcombined.csv')  \n",
    "filepath.parent.mkdir(parents=True, exist_ok=True)  \n",
    "combi1.to_csv(filepath, index = False)  '''"
   ]
  },
  {
   "cell_type": "code",
   "execution_count": null,
   "id": "31550a01",
   "metadata": {},
   "outputs": [],
   "source": [
    "######################################"
   ]
  },
  {
   "cell_type": "code",
   "execution_count": 93,
   "id": "f6b2a09a",
   "metadata": {},
   "outputs": [
    {
     "data": {
      "text/plain": [
       "(18399, 18)"
      ]
     },
     "execution_count": 93,
     "metadata": {},
     "output_type": "execute_result"
    }
   ],
   "source": [
    "#####  LOAD THE DATA HERE ####\n",
    "\n",
    "import pandas as pd \n",
    "\n",
    "combixl = pd.read_csv('XLcombined.csv')\n",
    "(combixl.shape)  #(18399, 18)"
   ]
  },
  {
   "cell_type": "code",
   "execution_count": 94,
   "id": "f9791a11",
   "metadata": {},
   "outputs": [
    {
     "data": {
      "text/plain": [
       "score                0\n",
       "created_utc          0\n",
       "title                0\n",
       "selftext             0\n",
       "covid                0\n",
       "punctremoved         0\n",
       "nopunctwords         0\n",
       "tokenized            0\n",
       "tokenized2           0\n",
       "stopwords_removed    0\n",
       "porter_stemmed       0\n",
       "lemmatized           0\n",
       "stemrejoined         0\n",
       "lemmarejoined        0\n",
       "1gram                0\n",
       "2gram                0\n",
       "3gram                0\n",
       "4gram                0\n",
       "dtype: int64"
      ]
     },
     "execution_count": 94,
     "metadata": {},
     "output_type": "execute_result"
    }
   ],
   "source": [
    "combixl.isna().sum()"
   ]
  },
  {
   "cell_type": "code",
   "execution_count": 95,
   "id": "750535c3",
   "metadata": {},
   "outputs": [],
   "source": [
    "Scombi = combixl.drop(['created_utc', 'tokenized2','title', 'nopunctwords', 'punctremoved', 'porter_stemmed','stemrejoined', 'tokenized', 'stopwords_removed' ], axis = 1)"
   ]
  },
  {
   "cell_type": "code",
   "execution_count": 96,
   "id": "d9bd7482",
   "metadata": {},
   "outputs": [
    {
     "data": {
      "text/plain": [
       "score             int64\n",
       "selftext         object\n",
       "covid             int64\n",
       "lemmatized       object\n",
       "lemmarejoined    object\n",
       "1gram            object\n",
       "2gram            object\n",
       "3gram            object\n",
       "4gram            object\n",
       "dtype: object"
      ]
     },
     "execution_count": 96,
     "metadata": {},
     "output_type": "execute_result"
    }
   ],
   "source": [
    "Scombi.dtypes"
   ]
  },
  {
   "cell_type": "code",
   "execution_count": 97,
   "id": "b38940d7",
   "metadata": {},
   "outputs": [],
   "source": [
    "'''from pathlib import Path  \n",
    "filepath = Path('/Users/selinzobu/Desktop/1SCRAPE DATA/Scombined.csv')  \n",
    "filepath.parent.mkdir(parents=True, exist_ok=True)  \n",
    "Scombi.to_csv(filepath, index = False)  '''"
   ]
  },
  {
   "cell_type": "code",
   "execution_count": null,
   "id": "1448d047",
   "metadata": {},
   "outputs": [],
   "source": [
    "#TO TRY\n",
    "#Expand contractions\n",
    "\n",
    "'''text_col = text_col.apply(\n",
    "    lambda x: \" \".join([contractions.fix(expanded_word) for expanded_word in x.split()]))\n",
    "    '''"
   ]
  },
  {
   "cell_type": "code",
   "execution_count": null,
   "id": "06ba894f",
   "metadata": {},
   "outputs": [],
   "source": [
    "#Typos correction\n",
    "'''from textblob import TextBlob\n",
    "text_col = text_col.apply(lambda x: str(TextBlob(x).correct()))'''"
   ]
  },
  {
   "cell_type": "code",
   "execution_count": null,
   "id": "75f30159",
   "metadata": {},
   "outputs": [],
   "source": [
    "'''#!pip install contractions\n",
    "import contractions\n",
    "print(contractions.fix((words[0])))\n",
    "print()\n",
    "print(contractions.fix((words[1])))\n",
    "print()\n",
    "print(contractions.fix((words[2])))'''"
   ]
  }
 ],
 "metadata": {
  "kernelspec": {
   "display_name": "Python 3 (ipykernel)",
   "language": "python",
   "name": "python3"
  },
  "language_info": {
   "codemirror_mode": {
    "name": "ipython",
    "version": 3
   },
   "file_extension": ".py",
   "mimetype": "text/x-python",
   "name": "python",
   "nbconvert_exporter": "python",
   "pygments_lexer": "ipython3",
   "version": "3.9.7"
  }
 },
 "nbformat": 4,
 "nbformat_minor": 5
}
