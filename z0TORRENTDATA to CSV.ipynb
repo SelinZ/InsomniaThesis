{
 "cells": [
  {
   "cell_type": "code",
   "execution_count": null,
   "id": "f929579c",
   "metadata": {},
   "outputs": [],
   "source": [
    "#https://www.reddit.com/r/pushshift/comments/11ef9if/separate_dump_files_for_the_top_20k_subreddits/\n",
    "#License: No license specified, the work may be protected by copyright.\n",
    "\n",
    "#https://academictorrents.com/details/c398a571976c78d346c325bd75c47b82edf6124e\n",
    "#https://github.com/Watchful1/PushshiftDumps"
   ]
  },
  {
   "cell_type": "code",
   "execution_count": 1,
   "id": "91b89299",
   "metadata": {},
   "outputs": [],
   "source": [
    "import zstandard\n",
    "import os\n",
    "import json\n",
    "import sys\n",
    "import csv\n",
    "from datetime import datetime\n",
    "import logging.handlers"
   ]
  },
  {
   "cell_type": "code",
   "execution_count": 2,
   "id": "16783bd5",
   "metadata": {},
   "outputs": [
    {
     "name": "stdout",
     "output_type": "stream",
     "text": [
      "/Users/selinzobu/Desktop/1SCRAPE DATA\n"
     ]
    }
   ],
   "source": [
    "from pathlib import Path\n",
    "print(Path.cwd())"
   ]
  },
  {
   "cell_type": "code",
   "execution_count": null,
   "id": "74ab977c",
   "metadata": {},
   "outputs": [],
   "source": [
    "#BEFORE 2017-03-01 - 2019-12-31   13910 submissions\n",
    "#AFTER  2020-01-01 - 2021-02-28   14112 submissions"
   ]
  },
  {
   "cell_type": "code",
   "execution_count": 45,
   "id": "39d71ae7",
   "metadata": {},
   "outputs": [],
   "source": [
    "# put the path to the input file\n",
    "input_file = \"/Users/selinzobu/Desktop/1SCRAPE DATA/insomnia_submissions.zst\"\n",
    "# put the name or path to the output file. \n",
    "output_file = \"/Users/selinzobu/Desktop/1SCRAPE DATA/11BEFORECOinsomnia_submissions\"\n",
    "output_format = \"csv\"\n",
    "is_submission = \"submission\" in input_file"
   ]
  },
  {
   "cell_type": "code",
   "execution_count": 46,
   "id": "74dadcc0",
   "metadata": {},
   "outputs": [],
   "source": [
    "# only output items between these two dates\n",
    "from_date = datetime.strptime(\"2017-03-01\", \"%Y-%m-%d\")\n",
    "to_date = datetime.strptime(\"2019-12-31\", \"%Y-%m-%d\")"
   ]
  },
  {
   "cell_type": "code",
   "execution_count": 19,
   "id": "2c180935",
   "metadata": {},
   "outputs": [],
   "source": [
    "# the field to filter on, the values to filter with and whether it should be an exact match\n",
    "# some examples:\n",
    "#\n",
    "# return only objects where the author is u/watchful1 or u/spez\n",
    "# field = \"author\"\n",
    "# values = [\"watchful1\",\"spez\"]\n",
    "# exact_match = True\n",
    "#\n",
    "# return only objects where the title contains either \"stonk\" or \"moon\"\n",
    "# field = \"title\"\n",
    "# values = [\"stonk\",\"moon\"]\n",
    "# exact_match = False\n",
    "#\n",
    "# return only objects where the body contains either \"stonk\" or \"moon\". For submissions the body is in the \"selftext\" field, for comments it's in the \"body\" field\n",
    "#field = \"selftext\"\n",
    "#values = [\"sleep\",\"insomnia\"]\n",
    "#exact_match = False"
   ]
  },
  {
   "cell_type": "code",
   "execution_count": 30,
   "id": "13dac2a5",
   "metadata": {},
   "outputs": [],
   "source": [
    "# sets up logging to the console as well as a file\n",
    "log = logging.getLogger(\"bot\")\n",
    "log.setLevel(logging.INFO)\n",
    "log_formatter = logging.Formatter('%(asctime)s - %(levelname)s: %(message)s')\n",
    "log_str_handler = logging.StreamHandler()\n",
    "log_str_handler.setFormatter(log_formatter)\n",
    "log.addHandler(log_str_handler)\n",
    "if not os.path.exists(\"logs\"):\n",
    "\tos.makedirs(\"logs\")\n",
    "log_file_handler = logging.handlers.RotatingFileHandler(os.path.join(\"logs\", \"bot.log\"), maxBytes=1024*1024*16, backupCount=5)\n",
    "log_file_handler.setFormatter(log_formatter)\n",
    "log.addHandler(log_file_handler)"
   ]
  },
  {
   "cell_type": "code",
   "execution_count": 31,
   "id": "94b5e875",
   "metadata": {},
   "outputs": [],
   "source": [
    "def write_line_zst(handle, line):\n",
    "\thandle.write(line.encode('utf-8'))\n",
    "\thandle.write(\"\\n\".encode('utf-8'))\n",
    "\n",
    "def write_line_json(handle, obj):\n",
    "\thandle.write(json.dumps(obj))\n",
    "\thandle.write(\"\\n\")"
   ]
  },
  {
   "cell_type": "code",
   "execution_count": 32,
   "id": "9f008e10",
   "metadata": {},
   "outputs": [],
   "source": [
    "def write_line_csv(writer, obj, is_submission):\n",
    "\toutput_list = []\n",
    "\toutput_list.append(str(obj['score']))\n",
    "\toutput_list.append(datetime.fromtimestamp(obj['created_utc']).strftime(\"%Y-%m-%d\"))\n",
    "\tif is_submission:\n",
    "\t\toutput_list.append(obj['title'])\n",
    "\toutput_list.append(f\"u/{obj['author']}\")\n",
    "\toutput_list.append(f\"https://www.reddit.com{obj['permalink']}\")\n",
    "\tif is_submission:\n",
    "\t\tif obj['is_self']:\n",
    "\t\t\tif 'selftext' in obj:\n",
    "\t\t\t\toutput_list.append(obj['selftext'])\n",
    "\t\t\telse:\n",
    "\t\t\t\toutput_list.append(\"\")\n",
    "\t\telse:\n",
    "\t\t\toutput_list.append(obj['url'])\n",
    "\telse:\n",
    "\t\toutput_list.append(obj['body'])\n",
    "\twriter.writerow(output_list)"
   ]
  },
  {
   "cell_type": "code",
   "execution_count": 33,
   "id": "dad72215",
   "metadata": {},
   "outputs": [],
   "source": [
    "def read_and_decode(reader, chunk_size, max_window_size, previous_chunk=None, bytes_read=0):\n",
    "\tchunk = reader.read(chunk_size)\n",
    "\tbytes_read += chunk_size\n",
    "\tif previous_chunk is not None:\n",
    "\t\tchunk = previous_chunk + chunk\n",
    "\ttry:\n",
    "\t\treturn chunk.decode()\n",
    "\texcept UnicodeDecodeError:\n",
    "\t\tif bytes_read > max_window_size:\n",
    "\t\t\traise UnicodeError(f\"Unable to decode frame after reading {bytes_read:,} bytes\")\n",
    "\t\tlog.info(f\"Decoding error with {bytes_read:,} bytes, reading another chunk\")\n",
    "\t\treturn read_and_decode(reader, chunk_size, max_window_size, chunk, bytes_read)"
   ]
  },
  {
   "cell_type": "code",
   "execution_count": 34,
   "id": "0725599b",
   "metadata": {},
   "outputs": [],
   "source": [
    "def read_lines_zst(file_name):\n",
    "\twith open(file_name, 'rb') as file_handle:\n",
    "\t\tbuffer = ''\n",
    "\t\treader = zstandard.ZstdDecompressor(max_window_size=2**31).stream_reader(file_handle)\n",
    "\t\twhile True:\n",
    "\t\t\tchunk = read_and_decode(reader, 2**27, (2**29) * 2)\n",
    "\n",
    "\t\t\tif not chunk:\n",
    "\t\t\t\tbreak\n",
    "\t\t\tlines = (buffer + chunk).split(\"\\n\")\n",
    "\n",
    "\t\t\tfor line in lines[:-1]:\n",
    "\t\t\t\tyield line.strip(), file_handle.tell()\n",
    "\n",
    "\t\t\tbuffer = lines[-1]\n",
    "\n",
    "\t\treader.close()"
   ]
  },
  {
   "cell_type": "code",
   "execution_count": 47,
   "id": "0b43d59f",
   "metadata": {},
   "outputs": [
    {
     "name": "stderr",
     "output_type": "stream",
     "text": [
      "2023-03-26 19:58:22,936 - INFO: Complete : 55,726 : 0\n",
      "2023-03-26 19:58:22,936 - INFO: Complete : 55,726 : 0\n",
      "2023-03-26 19:58:22,936 - INFO: Complete : 55,726 : 0\n"
     ]
    }
   ],
   "source": [
    "if __name__ == \"__main__\":\n",
    "\toutput_path = f\"{output_file}.{output_format}\"\n",
    "\n",
    "\twriter = None\n",
    "\tif output_format == \"zst\":\n",
    "\t\thandle = zstandard.ZstdCompressor().stream_writer(open(output_path, 'wb'))\n",
    "\telif output_format == \"txt\":\n",
    "\t\thandle = open(output_path, 'w', encoding='UTF-8')\n",
    "\telif output_format == \"csv\":\n",
    "\t\thandle = open(output_path, 'w', encoding='UTF-8', newline='')\n",
    "\t\twriter = csv.writer(handle)\n",
    "\telse:\n",
    "\t\tlog.error(f\"Unsupported output format {output_format}\")\n",
    "\t\tsys.exit()\n",
    "\n",
    "#\tvalues = [value.lower() for value in values]  # convert to lowercase\n",
    "\n",
    "\tfile_size = os.stat(input_file).st_size\n",
    "\tfile_bytes_processed = 0\n",
    "\tcreated = None\n",
    "#\tmatched_lines = 0\n",
    "\tbad_lines = 0\n",
    "\ttotal_lines = 0\n",
    "\tfor line, file_bytes_processed in read_lines_zst(input_file):\n",
    "\t\ttotal_lines += 1\n",
    "\t\tif total_lines % 100000 == 0:\n",
    "\t\t\tlog.info(f\"{created.strftime('%Y-%m-%d %H:%M:%S')} : {total_lines:,} : {bad_lines:,} : {file_bytes_processed:,}:{(file_bytes_processed / file_size) * 100:.0f}%\")\n",
    "\n",
    "\t\ttry:\n",
    "\t\t\tobj = json.loads(line)\n",
    "\t\t\tcreated = datetime.utcfromtimestamp(int(obj['created_utc']))\n",
    "\n",
    "\t\t\tif created < from_date:\n",
    "\t\t\t\tcontinue\n",
    "\t\t\tif created > to_date:\n",
    "\t\t\t\tcontinue\n",
    "\n",
    "#\t\t\tfield_value = obj[field].lower()\n",
    "#\t\t\tmatched = False\n",
    "#\t\t\tfor value in values:\n",
    "#\t\t\t\tif exact_match:\n",
    "#\t\t\t\t\tif value == field_value:\n",
    "#\t\t\t\t\t\tmatched = True\n",
    "#\t\t\t\t\t\tbreak\n",
    "#\t\t\t\telse:\n",
    "#\t\t\t\t\tif value in field_value:\n",
    "#\t\t\t\t\t\tmatched = True\n",
    "#\t\t\t\t\t\tbreak\n",
    "#\t\t\tif not matched:\n",
    "#\t\t\t\tcontinue\n",
    "\n",
    "#\t\t\tmatched_lines += 1\n",
    "\t\t\tif output_format == \"zst\":\n",
    "\t\t\t\twrite_line_zst(handle, line)\n",
    "\t\t\telif output_format == \"csv\":\n",
    "\t\t\t\twrite_line_csv(writer, obj, is_submission)\n",
    "\t\t\telif output_format == \"txt\":\n",
    "\t\t\t\twrite_line_json(handle, obj)\n",
    "\t\texcept (KeyError, json.JSONDecodeError) as err:\n",
    "\t\t\tbad_lines += 1\n",
    "\n",
    "\thandle.close()\n",
    "\tlog.info(f\"Complete : {total_lines:,} : {bad_lines:,}\")\n",
    "    \n",
    "    \n",
    "#2023-03-13 20:58:12,808 - INFO: Complete : 55,726 : 0 submissions\n",
    "#2023-03-13 21:05:49,852 - INFO: Complete : 340,130 : 0 comments"
   ]
  }
 ],
 "metadata": {
  "kernelspec": {
   "display_name": "Python 3 (ipykernel)",
   "language": "python",
   "name": "python3"
  },
  "language_info": {
   "codemirror_mode": {
    "name": "ipython",
    "version": 3
   },
   "file_extension": ".py",
   "mimetype": "text/x-python",
   "name": "python",
   "nbconvert_exporter": "python",
   "pygments_lexer": "ipython3",
   "version": "3.9.7"
  }
 },
 "nbformat": 4,
 "nbformat_minor": 5
}
